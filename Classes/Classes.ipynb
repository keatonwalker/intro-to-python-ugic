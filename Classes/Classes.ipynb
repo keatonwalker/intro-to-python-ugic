{
 "cells": [
  {
   "cell_type": "markdown",
   "metadata": {},
   "source": [
    "### Python Classes and Objects"
   ]
  },
  {
   "cell_type": "code",
   "execution_count": null,
   "metadata": {},
   "outputs": [],
   "source": [
    "def get_init_last(first_name, last_name):\n",
    "    return '{}.{}'.format(first_name[0], last_name)\n",
    "\n",
    "\n",
    "people = []\n",
    "\n",
    "person0 = {\n",
    "    'first_name': None,\n",
    "    'last_name': None,\n",
    "    # Methods\n",
    "    'get_init_last': get_init_last\n",
    "}\n",
    "\n",
    "people.append(person0)\n",
    "\n",
    "print(people[0]['get_init_last']('jimmy', 'guy'))"
   ]
  },
  {
   "cell_type": "code",
   "execution_count": null,
   "metadata": {},
   "outputs": [],
   "source": [
    "class person(object):\n",
    "\n",
    "    def __init__(self, first, last):\n",
    "        self.first_name = first\n",
    "        self.last_name = last\n",
    "\n",
    "    def get_init_last(self):\n",
    "        return '{}.{}'.format(slef.first_name[0], self.last_name)\n"
   ]
  }
 ],
 "metadata": {
  "kernelspec": {
   "display_name": "Python 3",
   "language": "python",
   "name": "python3"
  },
  "language_info": {
   "codemirror_mode": {
    "name": "ipython",
    "version": 3
   },
   "file_extension": ".py",
   "mimetype": "text/x-python",
   "name": "python",
   "nbconvert_exporter": "python",
   "pygments_lexer": "ipython3",
   "version": "3.6.5"
  }
 },
 "nbformat": 4,
 "nbformat_minor": 2
}
