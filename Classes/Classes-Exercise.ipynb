{
 "cells": [
  {
   "cell_type": "markdown",
   "metadata": {},
   "source": [
    "###### Task 0"
   ]
  },
  {
   "cell_type": "markdown",
   "metadata": {},
   "source": []
  },
  {
   "cell_type": "code",
   "execution_count": 4,
   "metadata": {},
   "outputs": [],
   "source": [
    "names = [('Bod', 'Williams'), ('Jill', 'Smith'), ('James', 'Dean')]"
   ]
  },
  {
   "cell_type": "markdown",
   "metadata": {},
   "source": [
    "Use the following dictionary to print the intial.last name (k.walker) for all the people in the names list."
   ]
  },
  {
   "cell_type": "code",
   "execution_count": 6,
   "metadata": {
    "collapsed": true
   },
   "outputs": [],
   "source": [
    "def get_init_last(first_name, last_name):\n",
    "    return '{}.{}'.format(first_name[0], last_name)\n",
    "\n",
    "\n",
    "people = []\n",
    "\n",
    "person0 = {\n",
    "    'first_name': None,\n",
    "    'last_name': None,\n",
    "    # Methods\n",
    "    'get_init_last': get_init_last\n",
    "}\n",
    "\n",
    "# Fill people list with three people\n",
    "\n",
    "#print get_init_last() for each person"
   ]
  },
  {
   "cell_type": "markdown",
   "metadata": {},
   "source": [
    "Use the following class definition to print the intial.last name (k.walker) for all the people in the names list."
   ]
  },
  {
   "cell_type": "code",
   "execution_count": 9,
   "metadata": {},
   "outputs": [],
   "source": [
    "people.clear()\n",
    "people = []\n",
    "\n",
    "class person(object):\n",
    "\n",
    "    def __init__(self, first, last):\n",
    "        self.first_name = first\n",
    "        self.last_name = last\n",
    "\n",
    "    def get_init_last(self):\n",
    "        return '{}.{}'.format(self.first_name[0], self.last_name)\n",
    "\n",
    "# Fill people list with three people\n",
    "\n",
    "# print get_init_last() for each person"
   ]
  },
  {
   "cell_type": "code",
   "execution_count": null,
   "metadata": {
    "collapsed": true
   },
   "outputs": [],
   "source": []
  }
 ],
 "metadata": {
  "kernelspec": {
   "display_name": "Python 3",
   "language": "python",
   "name": "python3"
  },
  "language_info": {
   "codemirror_mode": {
    "name": "ipython",
    "version": 3
   },
   "file_extension": ".py",
   "mimetype": "text/x-python",
   "name": "python",
   "nbconvert_exporter": "python",
   "pygments_lexer": "ipython3",
   "version": "3.6.5"
  }
 },
 "nbformat": 4,
 "nbformat_minor": 2
}
