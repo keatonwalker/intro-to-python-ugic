{
 "cells": [
  {
   "cell_type": "markdown",
   "metadata": {},
   "source": [
    "###### Task 0"
   ]
  },
  {
   "cell_type": "markdown",
   "metadata": {},
   "source": [
    "Complete the format string with the following variables"
   ]
  },
  {
   "cell_type": "code",
   "execution_count": 2,
   "metadata": {
    "collapsed": true
   },
   "outputs": [
    {
     "name": "stdout",
     "output_type": "stream",
     "text": [
      "The fox  ran quickly to the store\n"
     ]
    }
   ],
   "source": [
    "noun1 = 'fox'\n",
    "verb = 'ran'\n",
    "noun2 = 'store'\n",
    "format_string = 'The {} {} quickly to the {}'.format(noun1, verb, noun2)\n",
    "print(format_string)"
   ]
  },
  {
   "cell_type": "markdown",
   "metadata": {},
   "source": [
    "###### Task 1"
   ]
  },
  {
   "cell_type": "markdown",
   "metadata": {},
   "source": [
    "Use string slicing to create as many words as you can from 'knowledge'"
   ]
  },
  {
   "cell_type": "code",
   "execution_count": 3,
   "metadata": {
    "collapsed": true
   },
   "outputs": [
    {
     "name": "stdout",
     "output_type": "stream",
     "text": [
      "know\n",
      "we\n"
     ]
    }
   ],
   "source": [
    "knowledge = 'knowledge'\n",
    "print(knowledge[:4])\n",
    "print(knowledge[3] + knowledge[5])"
   ]
  },
  {
   "cell_type": "markdown",
   "metadata": {},
   "source": [
    "###### Task 2\n",
    "Use the field calculator in ArcGIS to create an address from multiple fields."
   ]
  },
  {
   "cell_type": "markdown",
   "metadata": {},
   "source": [
    "An address is made up of the fields:<br>\n",
    "AddNum, PrefixDirection, StreetName, SuffixDirection, StreetType<br><br>\n",
    "Format the address to post office style.\n",
    "- Directions should be single capital letter (W for west)\n",
    "- Road types will be two letter abbreviations (RD for Road)"
   ]
  },
  {
   "cell_type": "code",
   "execution_count": null,
   "metadata": {},
   "outputs": [],
   "source": [
    "'{} {} {} {}'.format(\n",
    "!AddNum!,\n",
    "!PrefixDirection![0].upper(),\n",
    "!StreetName!,\n",
    "!SuffixDirection![0].upper().replace('N', '') + str(!StreetType!)[:2].replace('No', '').upper())"
   ]
  }
 ],
 "metadata": {
  "kernelspec": {
   "display_name": "Python 3",
   "language": "python",
   "name": "python3"
  },
  "language_info": {
   "codemirror_mode": {
    "name": "ipython",
    "version": 3
   },
   "file_extension": ".py",
   "mimetype": "text/x-python",
   "name": "python",
   "nbconvert_exporter": "python",
   "pygments_lexer": "ipython3",
   "version": "3.6.6"
  }
 },
 "nbformat": 4,
 "nbformat_minor": 2
}
