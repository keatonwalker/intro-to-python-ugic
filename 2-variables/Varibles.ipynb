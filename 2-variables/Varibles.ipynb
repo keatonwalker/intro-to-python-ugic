{
 "cells": [
  {
   "cell_type": "markdown",
   "metadata": {},
   "source": [
    "### Python Variables"
   ]
  },
  {
   "cell_type": "markdown",
   "metadata": {},
   "source": [
    "###### Variable Naming\n",
    "Variable names must begin with an underscore or letter."
   ]
  },
  {
   "cell_type": "code",
   "execution_count": 1,
   "metadata": {},
   "outputs": [
    {
     "name": "stdout",
     "output_type": "stream",
     "text": [
      "The magic number is:  9\n"
     ]
    }
   ],
   "source": [
    "magic_number = 9\n",
    "print('The magic number is: ', magic_number)"
   ]
  },
  {
   "cell_type": "code",
   "execution_count": 2,
   "metadata": {},
   "outputs": [
    {
     "name": "stdout",
     "output_type": "stream",
     "text": [
      "The secret to learning python is to avoid variable name discombobulation\n"
     ]
    }
   ],
   "source": [
    "_secret_message = 'discombobulation'\n",
    "print('The secret to learning python is to avoid variable name', _secret_message)"
   ]
  },
  {
   "cell_type": "markdown",
   "metadata": {},
   "source": [
    "Variables name can be any length."
   ]
  },
  {
   "cell_type": "code",
   "execution_count": 3,
   "metadata": {},
   "outputs": [
    {
     "name": "stdout",
     "output_type": "stream",
     "text": [
      "The variable name \"x\" is not very descriptive, unless you are in math class. x is: 3.14\n"
     ]
    }
   ],
   "source": [
    "x = 3.14\n",
    "print('The variable name \"x\" is not very descriptive, unless you are in math class. x is:', x)"
   ]
  },
  {
   "cell_type": "code",
   "execution_count": 4,
   "metadata": {},
   "outputs": [
    {
     "name": "stdout",
     "output_type": "stream",
     "text": [
      "Is variable name descriptiveness normally more important than length?: True\n"
     ]
    }
   ],
   "source": [
    "the_longest_variable_name_could_be_very_descriptive_but_eventually_becomes_hard_to_type_and_read = True\n",
    "print('Is variable name descriptiveness normally more important than length?:',\n",
    "      the_longest_variable_name_could_be_very_descriptive_but_eventually_becomes_hard_to_type_and_read)"
   ]
  },
  {
   "cell_type": "markdown",
   "metadata": {},
   "source": [
    "###### Variables and Assignment"
   ]
  },
  {
   "cell_type": "markdown",
   "metadata": {},
   "source": [
    "Once variables have been assigned a value with **=** they can be used in many ways."
   ]
  },
  {
   "cell_type": "code",
   "execution_count": 6,
   "metadata": {},
   "outputs": [
    {
     "name": "stdout",
     "output_type": "stream",
     "text": [
      "Variables can be assigned a value from other variables. Now pi is: 3.14 and so is x: 3.14\n"
     ]
    }
   ],
   "source": [
    "pi = x\n",
    "print('Variables can be assigned a value from other variables. Now pi is:', pi, 'and so is x:', x)"
   ]
  },
  {
   "cell_type": "code",
   "execution_count": 7,
   "metadata": {},
   "outputs": [
    {
     "name": "stdout",
     "output_type": "stream",
     "text": [
      "Variables can even be assigned to themselves: fun\n"
     ]
    }
   ],
   "source": [
    "still_fun = 'fun'\n",
    "still_fun = still_fun\n",
    "print('Variables can even be assigned to themselves:', still_fun)"
   ]
  },
  {
   "cell_type": "code",
   "execution_count": 8,
   "metadata": {},
   "outputs": [
    {
     "name": "stdout",
     "output_type": "stream",
     "text": [
      "Or they can be assigned to statements that include themselves:  fun fun fun\n"
     ]
    }
   ],
   "source": [
    "still_fun = still_fun + ' ' + still_fun + ' ' + still_fun\n",
    "print('Or they can be assigned to statements that include themselves: ', still_fun)"
   ]
  },
  {
   "cell_type": "markdown",
   "metadata": {},
   "source": [
    "###### Variable Errors\n",
    "Here are some things you can <span style=\"color:red\">**NOT**</span> do with varible names"
   ]
  },
  {
   "cell_type": "code",
   "execution_count": 9,
   "metadata": {
    "scrolled": true
   },
   "outputs": [
    {
     "ename": "SyntaxError",
     "evalue": "invalid syntax (<ipython-input-9-d1333d2c6902>, line 1)",
     "output_type": "error",
     "traceback": [
      "\u001b[0;36m  File \u001b[0;32m\"<ipython-input-9-d1333d2c6902>\"\u001b[0;36m, line \u001b[0;32m1\u001b[0m\n\u001b[0;31m    1st_rule_is = 'variables can not begin with numbers'\u001b[0m\n\u001b[0m              ^\u001b[0m\n\u001b[0;31mSyntaxError\u001b[0m\u001b[0;31m:\u001b[0m invalid syntax\n"
     ]
    }
   ],
   "source": [
    "1st_rule_is = 'variables can not begin with numbers'\n",
    "print('The first rule we broke was: ', 1st_rule_is)"
   ]
  },
  {
   "cell_type": "code",
   "execution_count": 10,
   "metadata": {},
   "outputs": [
    {
     "ename": "NameError",
     "evalue": "name 'Case_Matters' is not defined",
     "output_type": "error",
     "traceback": [
      "\u001b[0;31m---------------------------------------------------------------------------\u001b[0m",
      "\u001b[0;31mNameError\u001b[0m                                 Traceback (most recent call last)",
      "\u001b[0;32m<ipython-input-10-9be981bddb07>\u001b[0m in \u001b[0;36m<module>\u001b[0;34m()\u001b[0m\n\u001b[1;32m      1\u001b[0m \u001b[0mcase_matters\u001b[0m \u001b[0;34m=\u001b[0m \u001b[0;32mTrue\u001b[0m\u001b[0;34m\u001b[0m\u001b[0m\n\u001b[0;32m----> 2\u001b[0;31m \u001b[0mprint\u001b[0m\u001b[0;34m(\u001b[0m\u001b[0;34m'Does case matter in variable names?:'\u001b[0m\u001b[0;34m,\u001b[0m \u001b[0mCase_Matters\u001b[0m\u001b[0;34m)\u001b[0m\u001b[0;34m\u001b[0m\u001b[0m\n\u001b[0m",
      "\u001b[0;31mNameError\u001b[0m: name 'Case_Matters' is not defined"
     ]
    }
   ],
   "source": [
    "case_matters = True\n",
    "print('Does case matter in variable names?:', Case_Matters)"
   ]
  },
  {
   "cell_type": "code",
   "execution_count": null,
   "metadata": {
    "collapsed": true
   },
   "outputs": [],
   "source": [
    "empty_nothing\n",
    "print(empty_nothing)"
   ]
  },
  {
   "cell_type": "markdown",
   "metadata": {},
   "source": [
    "*What could ```empty_nothing``` be assigned to that represents no value?*"
   ]
  },
  {
   "cell_type": "markdown",
   "metadata": {},
   "source": [
    "###### Extra Variable Usefulness"
   ]
  },
  {
   "cell_type": "code",
   "execution_count": 11,
   "metadata": {},
   "outputs": [
    {
     "name": "stdout",
     "output_type": "stream",
     "text": [
      "Multiple variables can be assigned on the same line. one: 1 two: 2\n"
     ]
    }
   ],
   "source": [
    "one, two = 1, 2\n",
    "print('Multiple variables can be assigned on the same line.', 'one:', one, 'two:', two)"
   ]
  },
  {
   "cell_type": "markdown",
   "metadata": {},
   "source": [
    "SWAP!"
   ]
  },
  {
   "cell_type": "code",
   "execution_count": 12,
   "metadata": {},
   "outputs": [
    {
     "name": "stdout",
     "output_type": "stream",
     "text": [
      "And it can be used for an easy varible swap. one: 2 two: 1\n"
     ]
    }
   ],
   "source": [
    "two, one = one, two\n",
    "print('And it can be used for an easy varible swap.', 'one:', one, 'two:', two)"
   ]
  }
 ],
 "metadata": {
  "kernelspec": {
   "display_name": "Python 3",
   "language": "python",
   "name": "python3"
  },
  "language_info": {
   "codemirror_mode": {
    "name": "ipython",
    "version": 3
   },
   "file_extension": ".py",
   "mimetype": "text/x-python",
   "name": "python",
   "nbconvert_exporter": "python",
   "pygments_lexer": "ipython3",
   "version": "3.6.2"
  }
 },
 "nbformat": 4,
 "nbformat_minor": 2
}
