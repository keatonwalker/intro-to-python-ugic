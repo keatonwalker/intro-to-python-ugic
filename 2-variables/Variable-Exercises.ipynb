{
 "cells": [
  {
   "cell_type": "markdown",
   "metadata": {},
   "source": [
    "###### Use variables to make your python programs do all the things!\n",
    "Assign your variable for each task in the variables section and use them in the task section."
   ]
  },
  {
   "cell_type": "markdown",
   "metadata": {},
   "source": [
    "###### Task 0\n",
    "Add two numbers together"
   ]
  },
  {
   "cell_type": "markdown",
   "metadata": {},
   "source": [
    "Variable Section"
   ]
  },
  {
   "cell_type": "code",
   "execution_count": 6,
   "metadata": {
    "collapsed": true
   },
   "outputs": [
    {
     "name": "stdout",
     "output_type": "stream",
     "text": [
      "10\n"
     ]
    }
   ],
   "source": [
    "right = 9\n",
    "left = 1"
   ]
  },
  {
   "cell_type": "markdown",
   "metadata": {},
   "source": [
    "Task section"
   ]
  },
  {
   "cell_type": "code",
   "execution_count": 7,
   "metadata": {
    "collapsed": true
   },
   "outputs": [
    {
     "name": "stdout",
     "output_type": "stream",
     "text": [
      "10\n"
     ]
    }
   ],
   "source": [
    "print(left + right)"
   ]
  },
  {
   "cell_type": "markdown",
   "metadata": {},
   "source": [
    "###### Task 1\n",
    "Print the statement: \"fall leaves as soon as leaves fall\" using exaclty 3 named varibles.<br>\n",
    "Use the 3 varibles multiple times"
   ]
  },
  {
   "cell_type": "markdown",
   "metadata": {},
   "source": [
    "Variable Section"
   ]
  },
  {
   "cell_type": "code",
   "execution_count": 9,
   "metadata": {
    "collapsed": true
   },
   "outputs": [],
   "source": [
    "fall = 'fall'\n",
    "soon = 'as soon as'\n",
    "leaves = 'leaves'"
   ]
  },
  {
   "cell_type": "markdown",
   "metadata": {},
   "source": [
    "Task section"
   ]
  },
  {
   "cell_type": "code",
   "execution_count": 10,
   "metadata": {
    "collapsed": true
   },
   "outputs": [
    {
     "name": "stdout",
     "output_type": "stream",
     "text": [
      "fall leaves as soon as leaves fall\n"
     ]
    }
   ],
   "source": [
    "print(fall, leaves, soon, leaves, fall)"
   ]
  },
  {
   "cell_type": "markdown",
   "metadata": {},
   "source": [
    "###### Task 2\n",
    "Use variables to make this statement work. It works when you do not have to *Try again* and there are no errors."
   ]
  },
  {
   "cell_type": "markdown",
   "metadata": {},
   "source": [
    "Variable Section"
   ]
  },
  {
   "cell_type": "code",
   "execution_count": 17,
   "metadata": {
    "collapsed": true
   },
   "outputs": [],
   "source": [
    "magic_number = 3\n",
    "multiplier = 3\n",
    "appropriate_word = 'very'"
   ]
  },
  {
   "cell_type": "markdown",
   "metadata": {},
   "source": [
    "Task section"
   ]
  },
  {
   "cell_type": "code",
   "execution_count": 16,
   "metadata": {
    "collapsed": true
   },
   "outputs": [
    {
     "name": "stdout",
     "output_type": "stream",
     "text": [
      "This is very good!\n"
     ]
    }
   ],
   "source": [
    "magic_number = magic_number * multiplier\n",
    "if magic_number is not 9:\n",
    "    print('Try again. magic_number:', magic_number)\n",
    "else:\n",
    "    print('This is', (appropriate_word + ' ') * multiplier + 'good!')"
   ]
  },
  {
   "cell_type": "markdown",
   "metadata": {},
   "source": [
    "###### Task 3 \n",
    "Use the Python prompt in ArcGIS Pro to check if coordinate systems are the same.\n",
    "\n",
    "1. Start by adding all the feature classes in variable_data.gdb to a Pro project.\n",
    "1. Open the python prompt in Pro and assign each line below to a variable.\n",
    "1. Use your variables and operators to figure out which feature classes have the same coordinate system."
   ]
  },
  {
   "cell_type": "code",
   "execution_count": null,
   "metadata": {},
   "outputs": [],
   "source": [
    "arcpy.Describe('AddressPoints').spatialReference.name\n",
    "arcpy.Describe('LandOwnership').spatialReference.name\n",
    "arcpy.Describe('Municipalities').spatialReference.name"
   ]
  },
  {
   "cell_type": "markdown",
   "metadata": {},
   "source": [
    "See the arcpy docs to learn more about the [Describe object](https://pro.arcgis.com/en/pro-app/arcpy/functions/describe.htm)\n",
    "\n",
    "The `spatialRefernce` property is part of a [described Dataset](https://pro.arcgis.com/en/pro-app/arcpy/functions/dataset-properties.htm)"
   ]
  }
 ],
 "metadata": {
  "kernelspec": {
   "display_name": "Python 3",
   "language": "python",
   "name": "python3"
  },
  "language_info": {
   "codemirror_mode": {
    "name": "ipython",
    "version": 3
   },
   "file_extension": ".py",
   "mimetype": "text/x-python",
   "name": "python",
   "nbconvert_exporter": "python",
   "pygments_lexer": "ipython3",
   "version": "3.6.6"
  }
 },
 "nbformat": 4,
 "nbformat_minor": 2
}
