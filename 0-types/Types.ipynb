{
 "cells": [
  {
   "cell_type": "markdown",
   "metadata": {},
   "source": [
    "### Python Data Types\n",
    "Python has a few standard data types."
   ]
  },
  {
   "cell_type": "markdown",
   "metadata": {},
   "source": [
    "###### Integers\n",
    "Integers are whole numbers. They can be postive or negative.\n",
    "\n",
    "Python's name of the integer type is **int**."
   ]
  },
  {
   "cell_type": "code",
   "execution_count": 1,
   "metadata": {},
   "outputs": [
    {
     "name": "stdout",
     "output_type": "stream",
     "text": [
      "7 is an int\n",
      "-55 is an int\n"
     ]
    }
   ],
   "source": [
    "print(7, 'is an int')\n",
    "print(-55, 'is an int')"
   ]
  },
  {
   "cell_type": "markdown",
   "metadata": {},
   "source": [
    "###### Floats\n",
    "Floats are decimal numbers. They can represent fractional values.\n",
    "\n",
    "Python's name of the float type is **float**."
   ]
  },
  {
   "cell_type": "code",
   "execution_count": 2,
   "metadata": {},
   "outputs": [
    {
     "name": "stdout",
     "output_type": "stream",
     "text": [
      "7.0 is a float\n",
      "-33.3333 is also a float\n"
     ]
    }
   ],
   "source": [
    "print(7.0, 'is a float')\n",
    "print(-33.3333, 'is also a float')"
   ]
  },
  {
   "cell_type": "markdown",
   "metadata": {},
   "source": [
    "###### Strings\n",
    "Strings are text. Surrounding text with quotes will make it a string.\n",
    "\n",
    "Python's name of the string type is **str**."
   ]
  },
  {
   "cell_type": "code",
   "execution_count": 6,
   "metadata": {},
   "outputs": [
    {
     "name": "stdout",
     "output_type": "stream",
     "text": [
      "This is a string with single quotes\n",
      "This is a string with double quotes\n",
      "This is a string with double qoutes and it has it's 'own' single qoutes inside\n",
      "Here is a string with triple quotes, and 'all' the other qoutes \"inside\" it.\n"
     ]
    }
   ],
   "source": [
    "print('This is a string with single quotes')\n",
    "print(\"This is a string with double quotes\")\n",
    "print(\"This is a string with double qoutes and it has it's 'own' single qoutes inside\")\n",
    "print(\"\"\"Here is a string with triple quotes, and 'all' the other qoutes \"inside\" it.\"\"\")"
   ]
  },
  {
   "cell_type": "markdown",
   "metadata": {},
   "source": [
    "*Whats the point of all the different quotes?*"
   ]
  },
  {
   "cell_type": "markdown",
   "metadata": {},
   "source": [
    "###### Lists\n",
    "Lists are collections of other types.\n",
    "\n",
    "Python's name of the list type is **list**."
   ]
  },
  {
   "cell_type": "code",
   "execution_count": 7,
   "metadata": {},
   "outputs": [
    {
     "name": "stdout",
     "output_type": "stream",
     "text": [
      "You can fill a list with ints: [1, 2, 3]\n",
      "You can fill a list with strs: ['a', 'b', 'c']\n",
      "You can fill a list with almost anything: [1, 'a', [1, 2, 3]]\n",
      "Access things in a list with more [] and indices. ['a', 'b', 'c'][0]: a\n"
     ]
    }
   ],
   "source": [
    "print('You can fill a list with ints:', [1, 2, 3])\n",
    "print('You can fill a list with strs:', ['a', 'b', 'c'])\n",
    "print('You can fill a list with almost anything:', [1, 'a', [1, 2, 3]])\n",
    "print(\"Access things in a list with more [] and indices. ['a', 'b', 'c'][0]:\", ['a', 'b', 'c'][0])"
   ]
  },
  {
   "cell_type": "markdown",
   "metadata": {},
   "source": [
    "Accessing things in a list is done more ```[]``` and indices.<br>\n",
    "Indices are zero based. The first item in the list is at index 0, the second is at index 1 and so on..."
   ]
  },
  {
   "cell_type": "code",
   "execution_count": 8,
   "metadata": {},
   "outputs": [
    {
     "name": "stdout",
     "output_type": "stream",
     "text": [
      "You can get the first item with index 0. ['a', 'b', 'c'][0]: a\n"
     ]
    }
   ],
   "source": [
    "print(\"You can get the first item with index 0. ['a', 'b', 'c'][0]:\", ['a', 'b', 'c'][0])"
   ]
  },
  {
   "cell_type": "markdown",
   "metadata": {},
   "source": [
    "If you try to use an index that is higher than the last index in the list. You will get an error."
   ]
  },
  {
   "cell_type": "code",
   "execution_count": 9,
   "metadata": {},
   "outputs": [
    {
     "ename": "IndexError",
     "evalue": "list index out of range",
     "output_type": "error",
     "traceback": [
      "\u001b[1;31m---------------------------------------------------------------------------\u001b[0m",
      "\u001b[1;31mIndexError\u001b[0m                                Traceback (most recent call last)",
      "\u001b[1;32m<ipython-input-9-75c5c7c33cb5>\u001b[0m in \u001b[0;36m<module>\u001b[1;34m()\u001b[0m\n\u001b[1;32m----> 1\u001b[1;33m \u001b[0mprint\u001b[0m\u001b[1;33m(\u001b[0m\u001b[1;34m\"2 is the highest index in a 3 item list. Index of 3 is out of range. ['a', 'b', 'c'][3]:\"\u001b[0m\u001b[1;33m,\u001b[0m \u001b[1;33m[\u001b[0m\u001b[1;34m'a'\u001b[0m\u001b[1;33m,\u001b[0m \u001b[1;34m'b'\u001b[0m\u001b[1;33m,\u001b[0m \u001b[1;34m'c'\u001b[0m\u001b[1;33m]\u001b[0m\u001b[1;33m[\u001b[0m\u001b[1;36m3\u001b[0m\u001b[1;33m]\u001b[0m\u001b[1;33m)\u001b[0m\u001b[1;33m\u001b[0m\u001b[0m\n\u001b[0m",
      "\u001b[1;31mIndexError\u001b[0m: list index out of range"
     ]
    }
   ],
   "source": [
    "print(\"2 is the highest index in a 3 item list. Index of 3 is out of range. ['a', 'b', 'c'][3]:\", ['a', 'b', 'c'][3])"
   ]
  },
  {
   "cell_type": "markdown",
   "metadata": {},
   "source": [
    "###### Dictionaries\n",
    "Dictionaries are collections of key, value pairs. Dictionaries are great!\n",
    "\n",
    "Python's name of the dictionary type is **dict**."
   ]
  },
  {
   "cell_type": "code",
   "execution_count": 10,
   "metadata": {},
   "outputs": [
    {
     "name": "stdout",
     "output_type": "stream",
     "text": [
      "A key maps to a value: {'key': 'value'}\n",
      "Many types can be a key: {'key': 5, 9: 'value', 1.5: True}\n",
      "Anything can be a value: {'lists': [1, 2, 3], 'dictionaries': {'wow!': 'neat'}, 'objects?': <object object at 0x00000214A501BCD0>}\n"
     ]
    }
   ],
   "source": [
    "print('A key maps to a value:', {'key': 'value'})\n",
    "print('Many types can be a key:',\n",
    "      {'key': 5,\n",
    "       9: 'value',\n",
    "       1.5: True})\n",
    "print('Anything can be a value:',\n",
    "      {'lists': [1, 2, 3],\n",
    "       'dictionaries': {'wow!': 'neat'},\n",
    "       'objects?': object()})"
   ]
  },
  {
   "cell_type": "markdown",
   "metadata": {},
   "source": [
    "Accessing values in a dictionary is also done with ```[]```.<br>\n",
    "With dictionaries a key is used rather than and index.\n"
   ]
  },
  {
   "cell_type": "code",
   "execution_count": 11,
   "metadata": {},
   "outputs": [
    {
     "name": "stdout",
     "output_type": "stream",
     "text": [
      "Access things in a dictionary with keys. {'key1': 'a', 'key2': 'b'}['key1']: a\n"
     ]
    }
   ],
   "source": [
    "print(\"Access things in a dictionary with keys. {'key1': 'a', 'key2': 'b'}['key1']:\",\n",
    "      {'key1': 'a', 'key2': 'b'}['key1'])"
   ]
  },
  {
   "cell_type": "markdown",
   "metadata": {},
   "source": [
    "Attemping to access a key that isn't in the dictionary will raise and error."
   ]
  },
  {
   "cell_type": "code",
   "execution_count": 12,
   "metadata": {},
   "outputs": [
    {
     "ename": "KeyError",
     "evalue": "'key55'",
     "output_type": "error",
     "traceback": [
      "\u001b[1;31m---------------------------------------------------------------------------\u001b[0m",
      "\u001b[1;31mKeyError\u001b[0m                                  Traceback (most recent call last)",
      "\u001b[1;32m<ipython-input-12-4ae38cb95677>\u001b[0m in \u001b[0;36m<module>\u001b[1;34m()\u001b[0m\n\u001b[0;32m      1\u001b[0m print(\"key55 is not in the dictionary. {'key1': 'a', 'key2': 'b'}['key55']:\",\n\u001b[1;32m----> 2\u001b[1;33m       {'key1': 'a', 'key2': 'b'}['key55'])\n\u001b[0m",
      "\u001b[1;31mKeyError\u001b[0m: 'key55'"
     ]
    }
   ],
   "source": [
    "print(\"key55 is not in the dictionary. {'key1': 'a', 'key2': 'b'}['key55']:\",\n",
    "      {'key1': 'a', 'key2': 'b'}['key55'])"
   ]
  },
  {
   "cell_type": "markdown",
   "metadata": {},
   "source": [
    "###### Booleans\n",
    "\n",
    "Booleans are python's true and false values.\n",
    "\n",
    "Python's name of the boolean type is **bool**"
   ]
  },
  {
   "cell_type": "code",
   "execution_count": 13,
   "metadata": {},
   "outputs": [
    {
     "name": "stdout",
     "output_type": "stream",
     "text": [
      "Booleans created with True and False key words.\n"
     ]
    }
   ],
   "source": [
    "print('Booleans created with {} and {} key words.'.format(True, False))"
   ]
  },
  {
   "cell_type": "markdown",
   "metadata": {},
   "source": [
    "###### Other interesting types"
   ]
  },
  {
   "cell_type": "markdown",
   "metadata": {},
   "source": [
    "Sets are like lists, but they have a few additional properties and give access to set opertions (union, intersection)."
   ]
  },
  {
   "cell_type": "code",
   "execution_count": 14,
   "metadata": {},
   "outputs": [
    {
     "name": "stdout",
     "output_type": "stream",
     "text": [
      "Sets have no order and no duplicates: {33, 11, 22}\n"
     ]
    }
   ],
   "source": [
    "print('Sets have no order and no duplicates:',\n",
    "      set([11, 22, 11, 33, 11]))"
   ]
  },
  {
   "cell_type": "markdown",
   "metadata": {},
   "source": [
    "Tuples are like lists, but they are immutable (cannot be changed once created)."
   ]
  },
  {
   "cell_type": "code",
   "execution_count": 15,
   "metadata": {},
   "outputs": [
    {
     "name": "stdout",
     "output_type": "stream",
     "text": [
      "Tuples do not change: (1, 2, 3, 4)\n",
      "Access tuple values just like lists. (1, 2, 3)[1]: 2\n"
     ]
    }
   ],
   "source": [
    "print('Tuples do not change:', (1, 2, 3, 4))\n",
    "print('Access tuple values just like lists. (1, 2, 3)[1]:', (1, 2, 3)[1])"
   ]
  },
  {
   "cell_type": "markdown",
   "metadata": {},
   "source": [
    "*Why would you ever want a list that can't change?*"
   ]
  }
 ],
 "metadata": {
  "kernelspec": {
   "display_name": "Python 3",
   "language": "python",
   "name": "python3"
  },
  "language_info": {
   "codemirror_mode": {
    "name": "ipython",
    "version": 3
   },
   "file_extension": ".py",
   "mimetype": "text/x-python",
   "name": "python",
   "nbconvert_exporter": "python",
   "pygments_lexer": "ipython3",
   "version": "3.6.6"
  }
 },
 "nbformat": 4,
 "nbformat_minor": 2
}
