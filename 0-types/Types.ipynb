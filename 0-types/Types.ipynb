{
 "cells": [
  {
   "cell_type": "markdown",
   "metadata": {},
   "source": [
    "### Python Data Types\n",
    "Python has a few standard data types."
   ]
  },
  {
   "cell_type": "markdown",
   "metadata": {},
   "source": [
    "###### Integers\n",
    "Integers are whole numbers. They can be postive or negative.\n",
    "\n",
    "Python's name of the integer type is **int**."
   ]
  },
  {
   "cell_type": "code",
   "execution_count": null,
   "metadata": {},
   "outputs": [],
   "source": [
    "print(7, 'is an int')\n",
    "print(-55, 'is an int')"
   ]
  },
  {
   "cell_type": "markdown",
   "metadata": {},
   "source": [
    "###### Floats\n",
    "Floats and decimal numbers. They can represent fractional values.\n",
    "\n",
    "Python's name of the float type is **float**."
   ]
  },
  {
   "cell_type": "code",
   "execution_count": null,
   "metadata": {},
   "outputs": [],
   "source": [
    "print(7.0, 'is a float')\n",
    "print(-33.3333, 'is also a float')"
   ]
  },
  {
   "cell_type": "markdown",
   "metadata": {},
   "source": [
    "###### Strings\n",
    "Strings are text. Surrounding text with qoutes will make it a stringself.\n",
    "\n",
    "Python's name of the string type is **str**."
   ]
  },
  {
   "cell_type": "code",
   "execution_count": null,
   "metadata": {},
   "outputs": [],
   "source": [
    "print('This is a string with single quotes')\n",
    "print(\"This is a string with double quotes\")\n",
    "print(\"This is a string with double qoutes and it has it's 'own' single qoutes inside\")\n",
    "print(\"\"\"Here is a string with triple quotes, and 'all' the other qoutes \"inside\" it.\"\"\")"
   ]
  },
  {
   "cell_type": "markdown",
   "metadata": {},
   "source": [
    "###### Lists\n",
    "Lists are collections of other types.\n",
    "Python's name of the list type is **list**."
   ]
  },
  {
   "cell_type": "code",
   "execution_count": null,
   "metadata": {},
   "outputs": [],
   "source": [
    "print('You can fill a list with ints:', [1, 2, 3])\n",
    "print('You can fill a list with strs:', ['a', 'b', 'c'])\n",
    "print('You can fill a list with almost anything:', [1, 'a', [1, 2, 3]])\n",
    "print(\"Access things in a list with more [] and indices. ['a', 'b', 'c'][0]:\", ['a', 'b', 'c'][0])"
   ]
  },
  {
   "cell_type": "markdown",
   "metadata": {},
   "source": [
    "###### Dictionaries\n",
    "Dictionaries are collections of key, value pairs. Dictionaries are powerfull!\n",
    "\n",
    "Python's name of the dictionary type is **dict**."
   ]
  },
  {
   "cell_type": "code",
   "execution_count": null,
   "metadata": {},
   "outputs": [],
   "source": [
    "print('A key maps to a value:', {'key': 'value'})\n",
    "print('Many types can be a key:',\n",
    "      {'key': 5,\n",
    "       9: 'value',\n",
    "       1.5: True})\n",
    "print('Anything can be a value:',\n",
    "      {'lists': [1, 2, 3],\n",
    "       'dictionaries': {'wow!': 'neat'},\n",
    "       'objects?': object()})\n",
    "print(\"Access things in a dictionary with [] and keys. {'key1': 'a', 'key2': 'b'}['key1']:\",\n",
    "      {'key1': 'a', 'key2': 'b'}['key1'])"
   ]
  },
  {
   "cell_type": "markdown",
   "metadata": {},
   "source": [
    "###### Other interesting types"
   ]
  },
  {
   "cell_type": "markdown",
   "metadata": {},
   "source": [
    "Sets are like lists, but they have a few additional properties that give access to set opertions (union, intersection)."
   ]
  },
  {
   "cell_type": "code",
   "execution_count": null,
   "metadata": {},
   "outputs": [],
   "source": [
    "print('Sets have no order and no duplicates:',\n",
    "      set([11, 22, 11, 33, 11]))\n"
   ]
  },
  {
   "cell_type": "markdown",
   "metadata": {},
   "source": [
    "Tuples are like lists, but they are immutable (can not be changed once created)."
   ]
  },
  {
   "cell_type": "code",
   "execution_count": null,
   "metadata": {},
   "outputs": [],
   "source": [
    "print('Tuples do not change:', (1, 2, 3, 4))"
   ]
  }
 ],
 "metadata": {
  "kernelspec": {
   "display_name": "Python 3",
   "language": "python",
   "name": "python3"
  },
  "language_info": {
   "codemirror_mode": {
    "name": "ipython",
    "version": 3
   },
   "file_extension": ".py",
   "mimetype": "text/x-python",
   "name": "python",
   "nbconvert_exporter": "python",
   "pygments_lexer": "ipython3",
   "version": "3.6.2"
  }
 },
 "nbformat": 4,
 "nbformat_minor": 2
}
