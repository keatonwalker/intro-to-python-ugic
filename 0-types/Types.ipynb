{
 "cells": [
  {
   "cell_type": "markdown",
   "metadata": {},
   "source": [
    "### Python Data Types\n",
    "Python has a few standard data types."
   ]
  },
  {
   "cell_type": "markdown",
   "metadata": {},
   "source": [
    "###### Integers\n",
    "Integers are whole numbers. They can be postive or negative.\n",
    "\n",
    "Python's name of the integer type is **int**."
   ]
  },
  {
   "cell_type": "code",
   "execution_count": null,
   "metadata": {},
   "outputs": [],
   "source": [
    "print(7, 'is an int')\n",
    "print(-55, 'is an int')"
   ]
  },
  {
   "cell_type": "markdown",
   "metadata": {},
   "source": [
    "###### Floats\n",
    "Floats are decimal numbers. They can represent fractional values.\n",
    "\n",
    "Python's name of the float type is **float**."
   ]
  },
  {
   "cell_type": "code",
   "execution_count": null,
   "metadata": {},
   "outputs": [],
   "source": [
    "print(7.0, 'is a float')\n",
    "print(-33.3333, 'is also a float')"
   ]
  },
  {
   "cell_type": "markdown",
   "metadata": {},
   "source": [
    "###### Strings\n",
    "Strings are text. Surrounding text with quotes will make it a string.\n",
    "\n",
    "Python's name of the string type is **str**."
   ]
  },
  {
   "cell_type": "code",
   "execution_count": null,
   "metadata": {},
   "outputs": [],
   "source": [
    "print('This is a string with single quotes')\n",
    "print(\"This is a string with double quotes\")\n",
    "print(\"This is a string with double qoutes and it has it's 'own' single qoutes inside\")\n",
    "print(\"\"\"Here is a string with triple quotes, and 'all' the other qoutes \"inside\" it.\"\"\")"
   ]
  },
  {
   "cell_type": "markdown",
   "metadata": {},
   "source": [
    "*Whats the point of all the different quotes?*"
   ]
  },
  {
   "cell_type": "markdown",
   "metadata": {},
   "source": [
    "###### Lists\n",
    "Lists are collections of other types.\n",
    "\n",
    "Python's name of the list type is **list**."
   ]
  },
  {
   "cell_type": "code",
   "execution_count": null,
   "metadata": {},
   "outputs": [],
   "source": [
    "print('You can fill a list with ints:', [1, 2, 3])\n",
    "print('You can fill a list with strs:', ['a', 'b', 'c'])\n",
    "print('You can fill a list with almost anything:', [1, 'a', [1, 2, 3]])\n",
    "print(\"Access things in a list with more [] and indices. ['a', 'b', 'c'][0]:\", ['a', 'b', 'c'][0])"
   ]
  },
  {
   "cell_type": "markdown",
   "metadata": {},
   "source": [
    "Accessing things in a list is done more ```[]``` and indices.<br>\n",
    "Indices are zero based. The first item in the list is at index 0, the second is at index 1 and so on..."
   ]
  },
  {
   "cell_type": "code",
   "execution_count": null,
   "metadata": {},
   "outputs": [],
   "source": [
    "print(\"You can get the first item with index 0. ['a', 'b', 'c'][0]:\", ['a', 'b', 'c'][0])"
   ]
  },
  {
   "cell_type": "markdown",
   "metadata": {},
   "source": [
    "If you try to use an index that is higher than the last index in the list. You will get an error."
   ]
  },
  {
   "cell_type": "code",
   "execution_count": null,
   "metadata": {},
   "outputs": [],
   "source": [
    "print(\"2 is the highest index in a 3 item list. Index of 3 is out of range. ['a', 'b', 'c'][3]:\", ['a', 'b', 'c'][3])"
   ]
  },
  {
   "cell_type": "markdown",
   "metadata": {},
   "source": [
    "###### Dictionaries\n",
    "Dictionaries are collections of key, value pairs. Dictionaries are great!\n",
    "\n",
    "Python's name of the dictionary type is **dict**."
   ]
  },
  {
   "cell_type": "code",
   "execution_count": null,
   "metadata": {},
   "outputs": [],
   "source": [
    "print('A key maps to a value:', {'key': 'value'})\n",
    "print('Many types can be a key:',\n",
    "      {'key': 5,\n",
    "       9: 'value',\n",
    "       1.5: True})\n",
    "print('Anything can be a value:',\n",
    "      {'lists': [1, 2, 3],\n",
    "       'dictionaries': {'wow!': 'neat'},\n",
    "       'objects?': object()})"
   ]
  },
  {
   "cell_type": "markdown",
   "metadata": {},
   "source": [
    "Accessing values in a dictionary is also done with ```[]```.<br>\n",
    "With dictionaries a key is used rather than and index.\n"
   ]
  },
  {
   "cell_type": "code",
   "execution_count": null,
   "metadata": {},
   "outputs": [],
   "source": [
    "print(\"Access things in a dictionary with keys. {'key1': 'a', 'key2': 'b'}['key1']:\",\n",
    "      {'key1': 'a', 'key2': 'b'}['key1'])"
   ]
  },
  {
   "cell_type": "markdown",
   "metadata": {},
   "source": [
    "Attemping to access a key that isn't in the dictionary will raise and error."
   ]
  },
  {
   "cell_type": "code",
   "execution_count": null,
   "metadata": {},
   "outputs": [],
   "source": [
    "print(\"key55 is not in the dictionary. {'key1': 'a', 'key2': 'b'}['key55']:\",\n",
    "      {'key1': 'a', 'key2': 'b'}['key55'])"
   ]
  },
  {
   "cell_type": "markdown",
   "metadata": {},
   "source": [
    "###### Booleans\n",
    "\n",
    "Booleans are python's true and false values.\n",
    "\n",
    "Python's name of the boolean type is **bool**"
   ]
  },
  {
   "cell_type": "code",
   "execution_count": null,
   "metadata": {},
   "outputs": [],
   "source": [
    "print('Booleans created with {} and {} key words.'.format(True, False))"
   ]
  },
  {
   "cell_type": "markdown",
   "metadata": {},
   "source": [
    "###### Other interesting types"
   ]
  },
  {
   "cell_type": "markdown",
   "metadata": {},
   "source": [
    "Sets are like lists, but they have a few additional properties and give access to set opertions (union, intersection)."
   ]
  },
  {
   "cell_type": "code",
   "execution_count": null,
   "metadata": {},
   "outputs": [],
   "source": [
    "print('Sets have no order and no duplicates:',\n",
    "      set([11, 22, 11, 33, 11]))"
   ]
  },
  {
   "cell_type": "markdown",
   "metadata": {},
   "source": [
    "Tuples are like lists, but they are immutable (cannot be changed once created)."
   ]
  },
  {
   "cell_type": "code",
   "execution_count": null,
   "metadata": {},
   "outputs": [],
   "source": [
    "print('Tuples do not change:', (1, 2, 3, 4))\n",
    "print('Access tuple values just like lists. (1, 2, 3)[1]:', (1, 2, 3)[1])"
   ]
  },
  {
   "cell_type": "markdown",
   "metadata": {},
   "source": [
    "*Why would you ever want a list that can't change?*"
   ]
  }
 ],
 "metadata": {
  "kernelspec": {
   "display_name": "Python 3",
   "language": "python",
   "name": "python3"
  },
  "language_info": {
   "codemirror_mode": {
    "name": "ipython",
    "version": 3
   },
   "file_extension": ".py",
   "mimetype": "text/x-python",
   "name": "python",
   "nbconvert_exporter": "python",
   "pygments_lexer": "ipython3",
   "version": "3.6.5"
  }
 },
 "nbformat": 4,
 "nbformat_minor": 2
}
