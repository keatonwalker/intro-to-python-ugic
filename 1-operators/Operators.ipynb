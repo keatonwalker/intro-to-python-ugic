{
 "cells": [
  {
   "cell_type": "markdown",
   "metadata": {},
   "source": [
    "### Python Operators"
   ]
  },
  {
   "cell_type": "markdown",
   "metadata": {},
   "source": [
    "Operators act on operands.\n",
    "The data type of the operands effect what the operator does."
   ]
  },
  {
   "cell_type": "markdown",
   "metadata": {},
   "source": [
    "###### Numeric Operators\n",
    "When both the operands are numbers, the operators work mostly like they did in math class."
   ]
  },
  {
   "cell_type": "markdown",
   "metadata": {},
   "source": [
    "Addition, subtraction and multiplication."
   ]
  },
  {
   "cell_type": "code",
   "execution_count": null,
   "metadata": {},
   "outputs": [],
   "source": [
    "print('Addition is + and subtraction is -. 11 - 6 =', 11 - 6)\n",
    "print('Multiplication with *. 3 * 4 =', 3 * 4)"
   ]
  },
  {
   "cell_type": "markdown",
   "metadata": {},
   "source": [
    "With ```+```, ```-``` and ```*``` if at least one operand is a float(decimal number), the result will be a float."
   ]
  },
  {
   "cell_type": "markdown",
   "metadata": {},
   "source": [
    "Division is a little different.<br>\n",
    "Division with ```/``` is the most straightforward"
   ]
  },
  {
   "cell_type": "code",
   "execution_count": null,
   "metadata": {},
   "outputs": [],
   "source": [
    "print('Division with / and two ints. 5 / 2 =', 5 / 2)\n",
    "print('Division with / a float and an int. 5.0 / 2 =', 5.0 / 2)\n",
    "print('Division with / and two floats. 5.0 / 2.0 =', 5.0 / 2.0)"
   ]
  },
  {
   "cell_type": "markdown",
   "metadata": {},
   "source": [
    "Division with ```//``` is floor division.\n",
    "It will truncate any fractional value. It will also produce and int if both operands are ints."
   ]
  },
  {
   "cell_type": "code",
   "execution_count": null,
   "metadata": {},
   "outputs": [],
   "source": [
    "print('Division with // and two ints. 5 // 2 =', 5 // 2)\n",
    "print('Division with // a float and an int. 5.0 // 2 =', 5.0 // 2)\n",
    "print('Division with // and two floats. 5.0 // 2.0 =', 5.0 // 2.0)"
   ]
  },
  {
   "cell_type": "markdown",
   "metadata": {},
   "source": [
    "_Which way will a negative number round?_"
   ]
  },
  {
   "cell_type": "markdown",
   "metadata": {},
   "source": [
    "Division with ```%``` (modulo) will give you the remainder of a division"
   ]
  },
  {
   "cell_type": "code",
   "execution_count": null,
   "metadata": {},
   "outputs": [],
   "source": [
    "print('Modulo with %. 5 % 2 =', 5 % 2)"
   ]
  },
  {
   "cell_type": "markdown",
   "metadata": {},
   "source": [
    "You can divide in many ways, with even more numbers. Just never by zero."
   ]
  },
  {
   "cell_type": "code",
   "execution_count": null,
   "metadata": {},
   "outputs": [],
   "source": [
    "print('This print will not work because it contians an exception', 5 / 0)"
   ]
  },
  {
   "cell_type": "markdown",
   "metadata": {},
   "source": [
    "###### String Operators\n",
    "```+``` and ```*``` operators can be used with string operands"
   ]
  },
  {
   "cell_type": "code",
   "execution_count": null,
   "metadata": {},
   "outputs": [],
   "source": [
    "print(\"+ can conactenate two strings together. 'First ' + 'Second':\", 'First ' + 'Second')"
   ]
  },
  {
   "cell_type": "code",
   "execution_count": null,
   "metadata": {},
   "outputs": [],
   "source": [
    "print('* will duplicate a string any number of times:', 'over and ' * 3, 'over again')"
   ]
  },
  {
   "cell_type": "markdown",
   "metadata": {},
   "source": [
    "```in``` and ```not in``` will check for substring membership in a string."
   ]
  },
  {
   "cell_type": "code",
   "execution_count": null,
   "metadata": {},
   "outputs": [],
   "source": [
    "print (\"Is 'ytho' in 'python':\", 'ytho' in 'python')\n",
    "print (\"Is 'py' not in 'python':\", 'py' not in 'python')"
   ]
  },
  {
   "cell_type": "markdown",
   "metadata": {},
   "source": [
    "###### List Operators\n",
    "\\+ and * can also be used with lists"
   ]
  },
  {
   "cell_type": "code",
   "execution_count": null,
   "metadata": {},
   "outputs": [],
   "source": [
    "print('+ can combine two lists into a new list. [1, 2] + [3, 4] creates a new list:', [1, 2] + [3, 4])"
   ]
  },
  {
   "cell_type": "code",
   "execution_count": null,
   "metadata": {},
   "outputs": [],
   "source": [
    "print('* will duplicate the items in a list any number of times. [3, 3, 3] * 3:', [3, 3, 3] * 3)"
   ]
  },
  {
   "cell_type": "markdown",
   "metadata": {},
   "source": [
    "```in``` and ```not in``` will check for element membership in a list."
   ]
  },
  {
   "cell_type": "code",
   "execution_count": null,
   "metadata": {},
   "outputs": [],
   "source": [
    "print (\"Is 'python' in ['cobra', 'python', 'boa']:\", 'python' in ['cobra', 'python', 'boa'])"
   ]
  },
  {
   "cell_type": "markdown",
   "metadata": {},
   "source": [
    "###### Comparison Operators\n",
    "Comparison operators check the operands for order or equality and return True or False. "
   ]
  },
  {
   "cell_type": "code",
   "execution_count": null,
   "metadata": {},
   "outputs": [],
   "source": [
    "print(\"Equality can be checked with ==. 'hello' == 'hello': \", 'hello' == 'hello')\n",
    "print(\"Lack of equality can be checked with !=. 'hello' != 'goodbye': \", 'hello' != 'goodbye')"
   ]
  },
  {
   "cell_type": "code",
   "execution_count": null,
   "metadata": {},
   "outputs": [],
   "source": [
    "print('Order can be determined with < and >.',\n",
    "      '3 > 2:', 3 > 2,\n",
    "      '5 >= 5', 5 >= 5)\n",
    "print('Comparing the order of strings can be a little weird.',\n",
    "      \"'z' > 'a':\", 'z' < 'a',\n",
    "      \"'Z' > 'a':\", 'Z' < 'a')"
   ]
  },
  {
   "cell_type": "markdown",
   "metadata": {},
   "source": [
    "### Built-in Functions\n",
    "Built-ins are like operators in that they are available everywhere in python.\n",
    "They are different because they are called with `( )` and a list of arguments."
   ]
  },
  {
   "cell_type": "markdown",
   "metadata": {},
   "source": [
    "There are many built-in functions: https://docs.python.org/3/library/functions.html"
   ]
  },
  {
   "cell_type": "code",
   "execution_count": null,
   "metadata": {},
   "outputs": [],
   "source": [
    "print('print() is a very useful built-in')\n",
    "print('The argument list includes strings to print', 'and things like line endings', end=' :-D\\n')"
   ]
  },
  {
   "cell_type": "markdown",
   "metadata": {},
   "source": [
    "_Why is the line ending argument_ ```' :-D\\n'``` _given to the function with the paramter name_ ```end=```?"
   ]
  },
  {
   "cell_type": "markdown",
   "metadata": {},
   "source": [
    "**type()** can give information about data types"
   ]
  },
  {
   "cell_type": "code",
   "execution_count": null,
   "metadata": {},
   "outputs": [],
   "source": [
    "print('3 is an int. type(3):', type(3))\n",
    "print(\"'6' is a str. type('6'):\", type('6'))"
   ]
  },
  {
   "cell_type": "markdown",
   "metadata": {},
   "source": [
    "You can convert types with built-ins"
   ]
  },
  {
   "cell_type": "code",
   "execution_count": null,
   "metadata": {},
   "outputs": [],
   "source": [
    "print(\"'6' is a str, but let's make it an int. type(int('6')):\", type(int('6')))"
   ]
  },
  {
   "cell_type": "markdown",
   "metadata": {},
   "source": [
    "There are also a few useful built-ins for lists."
   ]
  },
  {
   "cell_type": "code",
   "execution_count": null,
   "metadata": {},
   "outputs": [],
   "source": [
    "print('len() will tell you the number of items in a list. len([1, 2, 3]):', len([1, 2, 3]))"
   ]
  },
  {
   "cell_type": "code",
   "execution_count": null,
   "metadata": {},
   "outputs": [],
   "source": [
    "print('min() and max() will return the smallest and largest items.')\n",
    "print('min([1, 2, 3]):',\n",
    "      min([1, 2, 3]))\n",
    "print('max([1, 2, 3]):',\n",
    "      max([1, 2, 3]))"
   ]
  },
  {
   "cell_type": "markdown",
   "metadata": {},
   "source": [
    "**len()** works with more than lists. It will give you the number of characters in a string too."
   ]
  },
  {
   "cell_type": "code",
   "execution_count": null,
   "metadata": {},
   "outputs": [],
   "source": [
    "print(\"one, two and six all have 3 characters in their sequence of characters\",\n",
    "      \"\\nlen('one'):\", len('one'),\n",
    "      \"\\nlen('two'):\", len('two'),\n",
    "      \"\\nlen('six'):\", len('six'))"
   ]
  }
 ],
 "metadata": {
  "kernelspec": {
   "display_name": "Python 3",
   "language": "python",
   "name": "python3"
  },
  "language_info": {
   "codemirror_mode": {
    "name": "ipython",
    "version": 3
   },
   "file_extension": ".py",
   "mimetype": "text/x-python",
   "name": "python",
   "nbconvert_exporter": "python",
   "pygments_lexer": "ipython3",
   "version": "3.6.6"
  }
 },
 "nbformat": 4,
 "nbformat_minor": 2
}
