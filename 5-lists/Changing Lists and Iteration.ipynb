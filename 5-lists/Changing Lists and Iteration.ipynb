{
 "cells": [
  {
   "cell_type": "code",
   "execution_count": 1,
   "metadata": {},
   "outputs": [
    {
     "name": "stdout",
     "output_type": "stream",
     "text": [
      "['Bill', 'Jill', 'Jill', 'Ned', 'Ted']\n",
      "['Bill', 'Jill', 'Ned', 'Ted']\n"
     ]
    }
   ],
   "source": [
    "name_list = ['Bill', 'Jill', 'Ted', 'Ned', 'Jill']\n",
    "name_list.sort()\n",
    "print(name_list)\n",
    "for name in name_list:\n",
    "    if name == 'Jill':\n",
    "        name_list.remove(name)\n",
    "print(name_list)"
   ]
  },
  {
   "cell_type": "code",
   "execution_count": 12,
   "metadata": {},
   "outputs": [
    {
     "name": "stdout",
     "output_type": "stream",
     "text": [
      "['Bill', 'Ned', 'Ted']\n"
     ]
    }
   ],
   "source": [
    "name_list = ['Bill', 'Jill', 'Ted', 'Ned', 'Jill']\n",
    "name_list.sort()\n",
    "while name_list.count('Jill') > 0:\n",
    "    name_list.remove('Jill')\n",
    "print(name_list)"
   ]
  },
  {
   "cell_type": "code",
   "execution_count": null,
   "metadata": {
    "collapsed": true
   },
   "outputs": [],
   "source": []
  }
 ],
 "metadata": {
  "kernelspec": {
   "display_name": "Python 3",
   "language": "python",
   "name": "python3"
  },
  "language_info": {
   "codemirror_mode": {
    "name": "ipython",
    "version": 3
   },
   "file_extension": ".py",
   "mimetype": "text/x-python",
   "name": "python",
   "nbconvert_exporter": "python",
   "pygments_lexer": "ipython3",
   "version": "3.6.5"
  }
 },
 "nbformat": 4,
 "nbformat_minor": 2
}
