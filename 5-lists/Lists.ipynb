{
 "cells": [
  {
   "cell_type": "markdown",
   "metadata": {},
   "source": [
    "### Python Lists"
   ]
  },
  {
   "cell_type": "markdown",
   "metadata": {},
   "source": [
    "###### Creating lists and adding items"
   ]
  },
  {
   "cell_type": "markdown",
   "metadata": {},
   "source": [
    "Lists can be created with items at the time of assignment."
   ]
  },
  {
   "cell_type": "code",
   "execution_count": 2,
   "metadata": {},
   "outputs": [
    {
     "name": "stdout",
     "output_type": "stream",
     "text": [
      "[1, 2, 3]\n"
     ]
    }
   ],
   "source": [
    "list_with_items = [1, 2, 3]\n",
    "print(list_with_items)"
   ]
  },
  {
   "cell_type": "markdown",
   "metadata": {},
   "source": [
    "Lists can be created empty and items can be appended to the end of list."
   ]
  },
  {
   "cell_type": "code",
   "execution_count": 5,
   "metadata": {},
   "outputs": [
    {
     "name": "stdout",
     "output_type": "stream",
     "text": [
      "An empty list has 0 items\n",
      "Appending adds items to a list: ['first', 'second', 'third']\n"
     ]
    }
   ],
   "source": [
    "appending_list = []\n",
    "print('An empty list has {} items'.format(len(appending_list)))\n",
    "appending_list.append('first')\n",
    "appending_list.append('second')\n",
    "appending_list.append('third')\n",
    "print(\"Appending adds items to a list: {}\".format(appending_list))"
   ]
  },
  {
   "cell_type": "markdown",
   "metadata": {},
   "source": [
    "One list can be added to another list.\n",
    "The list we want to extend will have all the items from another list added to the end."
   ]
  },
  {
   "cell_type": "code",
   "execution_count": 6,
   "metadata": {},
   "outputs": [
    {
     "name": "stdout",
     "output_type": "stream",
     "text": [
      "Here is the list before extending: [1, 2, 3]\n",
      "Here is the list after extending: [1, 2, 3, 4, 5, 6]\n"
     ]
    }
   ],
   "source": [
    "list1 = [1, 2, 3]\n",
    "print('Here is the list before extending: {}'.format(list1))\n",
    "list2 = [4, 5, 6]\n",
    "list1.extend(list2)\n",
    "print('Here is the list after extending: {}'.format(list1))"
   ]
  },
  {
   "cell_type": "markdown",
   "metadata": {},
   "source": [
    "What would happen if you appended one list to another?"
   ]
  },
  {
   "cell_type": "markdown",
   "metadata": {},
   "source": [
    "###### Replacing and deleting items"
   ]
  },
  {
   "cell_type": "markdown",
   "metadata": {},
   "source": [
    "List items can be replaced with another item."
   ]
  },
  {
   "cell_type": "code",
   "execution_count": 10,
   "metadata": {},
   "outputs": [
    {
     "name": "stdout",
     "output_type": "stream",
     "text": [
      "Here are our names: ['Bill', 'Jill', 'Ted']\n",
      "Replaced Ted with a better fit: ['Bill', 'Jill', 'Phill']\n"
     ]
    }
   ],
   "source": [
    "name_list = ['Bill', 'Jill', 'Ted']\n",
    "print('Here are our names: {}'.format(name_list))\n",
    "name_list[2] = 'Phill'\n",
    "print('Replaced Ted with a better fit: {}'.format(name_list))"
   ]
  },
  {
   "cell_type": "markdown",
   "metadata": {},
   "source": [
    "Can indices be used to add another item to the list?"
   ]
  },
  {
   "cell_type": "markdown",
   "metadata": {},
   "source": [
    "List items can also be deleted."
   ]
  },
  {
   "cell_type": "code",
   "execution_count": 8,
   "metadata": {},
   "outputs": [
    {
     "name": "stdout",
     "output_type": "stream",
     "text": [
      "Current road types:['lane', 'Road', 'Thoroughfare', 'Drive']\n",
      "Got rid of one type: ['lane', 'Road', 'Drive']\n"
     ]
    }
   ],
   "source": [
    "road_types = ['lane', 'Road', 'Thoroughfare', 'Drive']\n",
    "print('Current road types:{}'.format(road_types))\n",
    "del road_types[2]\n",
    "print('Got rid of one type: {}'.format(road_types))"
   ]
  },
  {
   "cell_type": "markdown",
   "metadata": {},
   "source": [
    "###### List slicing"
   ]
  },
  {
   "cell_type": "markdown",
   "metadata": {},
   "source": [
    "Lists can be sliced to get a sublist.\n",
    "List slicing syntax is just like string slicing ```[:]```"
   ]
  },
  {
   "cell_type": "code",
   "execution_count": 15,
   "metadata": {},
   "outputs": [
    {
     "name": "stdout",
     "output_type": "stream",
     "text": [
      "We can get the first 3 items with slicing: ['lane', 'Road', 'Thoroughfare']\n",
      "Notice that the original list did not change: ['lane', 'Road', 'Thoroughfare', 'Drive']\n"
     ]
    }
   ],
   "source": [
    "road_types = ['lane', 'Road', 'Thoroughfare', 'Drive']\n",
    "print('We can get the first 3 items with slicing: {}'.format(road_types[:3]))\n",
    "print('Notice that the original list did not change: {}'.format(road_types))"
   ]
  },
  {
   "cell_type": "markdown",
   "metadata": {},
   "source": [
    "You can also access and slice from the back of the list with negative indices."
   ]
  },
  {
   "cell_type": "code",
   "execution_count": 21,
   "metadata": {},
   "outputs": [
    {
     "name": "stdout",
     "output_type": "stream",
     "text": [
      "Get a list without the first and last item with [1:-1]: [220, 240, 260, 280]\n",
      "Get the last 2 items with [-2:]: [280, 300]\n"
     ]
    }
   ],
   "source": [
    "house_numbers = [200, 220, 240, 260, 280, 300]\n",
    "print('Get a list without the first and last item with [1:-1]: {}'.format(house_numbers[1:-1]))\n",
    "print('Get the last 2 items with [-2:]: {}'.format(house_numbers[-2:]))"
   ]
  },
  {
   "cell_type": "markdown",
   "metadata": {},
   "source": [
    "###### List methods\n",
    "List methods can be called on a list or list variable.<br>\n",
    "Python docs for list methods: https://docs.python.org/3/tutorial/datastructures.html#more-on-lists"
   ]
  },
  {
   "cell_type": "markdown",
   "metadata": {},
   "source": [
    "What list methods have we already seen?"
   ]
  },
  {
   "cell_type": "markdown",
   "metadata": {},
   "source": [
    "```index()``` will return the index of an item in the list it is called on."
   ]
  },
  {
   "cell_type": "code",
   "execution_count": 22,
   "metadata": {},
   "outputs": [
    {
     "name": "stdout",
     "output_type": "stream",
     "text": [
      "'Road' is at index: 1\n"
     ]
    }
   ],
   "source": [
    "road_types = ['lane', 'Road', 'Thoroughfare', 'Drive']\n",
    "print('Road is at index: {}'.format(road_types.index('Road')))"
   ]
  },
  {
   "cell_type": "markdown",
   "metadata": {},
   "source": [
    "```index()``` only returns the index of the first item that matches in the list.<br>\n",
    "You can search a sublist with the optional parameters of ```index()```"
   ]
  },
  {
   "cell_type": "code",
   "execution_count": 28,
   "metadata": {},
   "outputs": [
    {
     "name": "stdout",
     "output_type": "stream",
     "text": [
      "Index will find the first Jill by defualt. Jill is at: 1\n",
      "If we start searching at index 2: Jill is at: 4\n"
     ]
    }
   ],
   "source": [
    "name_list = ['Bill', 'Jill', 'Ted', 'Ned', 'Jill']\n",
    "print('Index will find the first Jill by defualt. Jill is at: {}'.format(name_list.index('Jill')))\n",
    "print('If we start searching at index 2: Jill is at: {}'.format(name_list.index('Jill', 2)))"
   ]
  },
  {
   "cell_type": "markdown",
   "metadata": {},
   "source": [
    "What happens when ```index()``` is used to search for something that is not in the list?"
   ]
  },
  {
   "cell_type": "markdown",
   "metadata": {},
   "source": [
    "```remove()``` will delete and item from the list.<br>\n",
    "Much like ```index()```, it will remove the first item it finds that matches the function argument."
   ]
  },
  {
   "cell_type": "code",
   "execution_count": 33,
   "metadata": {},
   "outputs": [
    {
     "name": "stdout",
     "output_type": "stream",
     "text": [
      "All the names: ['Bill', 'Jill', 'Ted', 'Ned', 'Jill']\n",
      "After we remove Jill only the first gets deleted: ['Bill', 'Ted', 'Ned', 'Jill']\n"
     ]
    }
   ],
   "source": [
    "name_list = ['Bill', 'Jill', 'Ted', 'Ned', 'Jill']\n",
    "print('All the names: {}'.format(name_list))\n",
    "name_list.remove('Jill')\n",
    "print('After we remove Jill only the first gets deleted: {}'.format(name_list))"
   ]
  },
  {
   "cell_type": "markdown",
   "metadata": {},
   "source": [
    "What will happen if we move the call to remove,```name_list.remove('Jill')```, to ```format()```?"
   ]
  },
  {
   "cell_type": "markdown",
   "metadata": {},
   "source": [
    "```count()``` can be used to find how many times an item is in a list."
   ]
  },
  {
   "cell_type": "code",
   "execution_count": 51,
   "metadata": {},
   "outputs": [
    {
     "name": "stdout",
     "output_type": "stream",
     "text": [
      "In the list ['Bill', 'Jill', 'Ted', 'Ned', 'Jill'] Jill appears 2 times\n"
     ]
    }
   ],
   "source": [
    "name_list = ['Bill', 'Jill', 'Ted', 'Ned', 'Jill']\n",
    "print('In the list {} Jill appears {} times'.format(name_list, name_list.count('Jill')))"
   ]
  },
  {
   "cell_type": "markdown",
   "metadata": {},
   "source": [
    "```sort()``` can order the items in a list."
   ]
  },
  {
   "cell_type": "code",
   "execution_count": 55,
   "metadata": {},
   "outputs": [
    {
     "name": "stdout",
     "output_type": "stream",
     "text": [
      "[-5, 6, 12, 0, -43, 33] is the list of numbers\n",
      "Here is the list after sorting: [-43, -5, 0, 6, 12, 33]\n"
     ]
    }
   ],
   "source": [
    "number_list = [-5, 6, 12, 0, -43, 33]\n",
    "print('{} is the list of numbers'.format(number_list))\n",
    "number_list.sort()\n",
    "print('Here is the list after sorting: {}'.format(number_list))"
   ]
  },
  {
   "cell_type": "markdown",
   "metadata": {},
   "source": [
    "Remember, ordering strings can be a little weird."
   ]
  },
  {
   "cell_type": "code",
   "execution_count": 59,
   "metadata": {},
   "outputs": [
    {
     "name": "stdout",
     "output_type": "stream",
     "text": [
      "Sorted list with upper and lower strings: ['Drive', 'Lane', 'Road', 'dr', 'ln', 'rd']\n"
     ]
    }
   ],
   "source": [
    "road_types = ['Lane', 'Road', 'Drive', 'rd', 'dr', 'ln']\n",
    "road_types.sort()\n",
    "print('Sorted list with upper and lower strings: {}'.format(road_types))"
   ]
  },
  {
   "cell_type": "markdown",
   "metadata": {},
   "source": [
    "We can use an optional paramter in ```sort()``` to help."
   ]
  },
  {
   "cell_type": "code",
   "execution_count": 61,
   "metadata": {},
   "outputs": [
    {
     "name": "stdout",
     "output_type": "stream",
     "text": [
      "Sorted list with strings and a sort key method: ['dr', 'Drive', 'Lane', 'ln', 'rd', 'Road']\n"
     ]
    }
   ],
   "source": [
    "road_types = ['Lane', 'Road', 'Drive', 'rd', 'dr', 'ln']\n",
    "road_types.sort(key=str.lower) # Where did str.lower come from and why are there no ()!!!\n",
    "print('Sorted list with strings and a sort key method: {}'.format(road_types))"
   ]
  },
  {
   "cell_type": "markdown",
   "metadata": {},
   "source": [
    "You can learn much more about sorting here: https://docs.python.org/3/howto/sorting.html#sortinghowto"
   ]
  },
  {
   "cell_type": "code",
   "execution_count": null,
   "metadata": {},
   "outputs": [],
   "source": []
  }
 ],
 "metadata": {
  "kernelspec": {
   "display_name": "Python 3",
   "language": "python",
   "name": "python3"
  },
  "language_info": {
   "codemirror_mode": {
    "name": "ipython",
    "version": 3
   },
   "file_extension": ".py",
   "mimetype": "text/x-python",
   "name": "python",
   "nbconvert_exporter": "python",
   "pygments_lexer": "ipython3",
   "version": "3.6.2"
  }
 },
 "nbformat": 4,
 "nbformat_minor": 2
}
