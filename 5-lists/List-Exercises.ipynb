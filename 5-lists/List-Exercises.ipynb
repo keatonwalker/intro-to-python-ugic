{
 "cells": [
  {
   "cell_type": "markdown",
   "metadata": {},
   "source": [
    "###### Task 0"
   ]
  },
  {
   "cell_type": "markdown",
   "metadata": {},
   "source": [
    "Create a list called ```utah_cities``` and then use slicing and list methods to get all the Utah cities from ```cities``` into the new list."
   ]
  },
  {
   "cell_type": "code",
   "execution_count": null,
   "metadata": {
    "collapsed": true
   },
   "outputs": [],
   "source": [
    "cities = ['Price', 'Midway', 'seattle', 'Logan', 'raleigh', 'juneau', 'Provo', 'Ogden']"
   ]
  },
  {
   "cell_type": "markdown",
   "metadata": {},
   "source": [
    "###### Task 1\n",
    "Complete the code using everything you learned about lists<br>"
   ]
  },
  {
   "cell_type": "code",
   "execution_count": null,
   "metadata": {
    "collapsed": true
   },
   "outputs": [],
   "source": [
    "import arcpy\n",
    "import csv\n",
    "# You will need one more import here. Use the code to find out what it is.\n",
    "\n",
    "check_feature_file = 'features-to-check.txt'\n",
    "output_feature_file = 'feature-with-values.txt'\n",
    "feature_values = [] # list to store output list. [[Schools, 'nebo|name|k12'], ...]\n",
    "with open(check_feature_file, 'r') as features_to_check:\n",
    "   \n",
    "    headers = next(features_to_check) # Get the field headers\n",
    "    print('Here are the field headers as a list: {}'.format(headers.split(',')))\n",
    "    # loop through the lines of features-to-check.txt\n",
    "    for line in features_to_check:\n",
    "        split_line = None # Split the line to get path, fields\n",
    "        \n",
    "        path = None # Get the path and assign it to a variable\n",
    "        feature_name = os.path.basename(path) # Use os.path.basename to get feature class name\n",
    "        value_row = [feature_name]\n",
    "\n",
    "        # Get the pipe (|) delimited fields and split them into a list. Assign the list to a variable\n",
    "        fields = None\n",
    "        fields[-1] = fields[-1].strip()\n",
    "        \n",
    "        # Use a SearchCursor to get the value of each field in the fields list\n",
    "        with arcpy.da.SearchCursor(path, fields) as cursor:\n",
    "            for row in cursor:\n",
    "                #print(row)\n",
    "                row = [str(v) for v in row]\n",
    "                value_piped_string = None # join row to create a pipe (|) delimited string.\n",
    "                value_row.append(value_piped_string)\n",
    "                #print(value_row)\n",
    "        \n",
    "        feature_values.append(None)  # append value_row to feature_values list\n",
    "                \n",
    "with open(output_feature_file, 'w') as feature_with_values:\n",
    "    output_header = 'feature,values'\n",
    "    feature_with_values.write(output_header + '\\n')\n",
    "    for out_row in feature_values:\n",
    "        out_string = None.join(out_row) # join the rows of feature_values into a comma delimited string\n",
    "        feature_with_values.write(out_string + '\\n') # write the headers to a new file as comma delimited string\n",
    "        "
   ]
  }
 ],
 "metadata": {
  "kernelspec": {
   "display_name": "Python 3",
   "language": "python",
   "name": "python3"
  },
  "language_info": {
   "codemirror_mode": {
    "name": "ipython",
    "version": 3
   },
   "file_extension": ".py",
   "mimetype": "text/x-python",
   "name": "python",
   "nbconvert_exporter": "python",
   "pygments_lexer": "ipython3",
   "version": "3.6.6"
  }
 },
 "nbformat": 4,
 "nbformat_minor": 2
}
