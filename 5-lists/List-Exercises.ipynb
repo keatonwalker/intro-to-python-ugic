{
 "cells": [
  {
   "cell_type": "markdown",
   "metadata": {},
   "source": [
    "###### Task 0"
   ]
  },
  {
   "cell_type": "markdown",
   "metadata": {},
   "source": [
    "Create a list called ```utah_cities``` and then use slicing and list methods to get all the Utah cities from ```cities``` into the new list."
   ]
  },
  {
   "cell_type": "code",
   "execution_count": null,
   "metadata": {
    "collapsed": true
   },
   "outputs": [],
   "source": [
    "cities = ['Price', 'Vernal', 'seattle', 'Logan', 'raleigh', 'juneau', 'Provo', 'Ogden']"
   ]
  },
  {
   "cell_type": "markdown",
   "metadata": {},
   "source": [
    "###### Task 1\n",
    "Complete the code using everything you learned about lists<br>\n",
    "This arcpy docs page will help you list fields: http://pro.arcgis.com/en/pro-app/arcpy/functions/listfields.htm"
   ]
  },
  {
   "cell_type": "code",
   "execution_count": null,
   "metadata": {
    "collapsed": true
   },
   "outputs": [],
   "source": [
    "import arcpy\n",
    "\n",
    "check_feature_file = 'features-to-check.txt'\n",
    "output_feature_file = 'feature-with-types.txt'\n",
    "\n",
    "with open(check_feature_file, 'r') as features_to_check:\n",
    "   \n",
    "    headers = next(features_to_check) # Get the field headers\n",
    "    print('Here are the field headers as a list: {}'.format(headers.split(',')))\n",
    "    with open(output_feature_file, 'w') as features_with_types:\n",
    "        features_with_types.write(headers) # write the headers to a new file\n",
    "    # loop through the lines of features-to-check.txt\n",
    "    for line in features_to_check:\n",
    "        # Split the line to get path, fields\n",
    "        # Get the path and assign it to a variable\n",
    "\n",
    "        \n",
    "        # Get the pipe (|) delimited fields and split them into a list. Assign the list to a variable\n",
    "\n",
    "        # Get list of fields from the feature class at the path varible location. Use arcpy.ListFields.\n",
    "\n",
    "        # Create a list to hold the field types\n",
    "\n",
    "        # Loop through the field objects \n",
    "        for field in fields:\n",
    "            # Check if the field name from the feature class is in the field name list from the features-to-check.txt\n",
    "\n",
    "                # Add the field type to your type list\n",
    "        \n",
    "        with open(output_feature_file, 'a') as features_with_types:\n",
    "            # create pipe (|) delimited strings for both the field names and field type lists.\n",
    "            output_line_list = '' # add the path, piped delimited field names and pipe delimited types to a list\n",
    "            features_with_types.write(','.join(output_line_list) + '\\n') # write the headers to a new file as comma delimited string\n",
    "        \n",
    "        "
   ]
  }
 ],
 "metadata": {
  "kernelspec": {
   "display_name": "Python 3",
   "language": "python",
   "name": "python3"
  },
  "language_info": {
   "codemirror_mode": {
    "name": "ipython",
    "version": 3
   },
   "file_extension": ".py",
   "mimetype": "text/x-python",
   "name": "python",
   "nbconvert_exporter": "python",
   "pygments_lexer": "ipython3",
   "version": "3.6.2"
  }
 },
 "nbformat": 4,
 "nbformat_minor": 2
}
