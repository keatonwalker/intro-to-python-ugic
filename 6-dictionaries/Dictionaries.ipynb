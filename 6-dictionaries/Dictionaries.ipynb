{
 "cells": [
  {
   "cell_type": "markdown",
   "metadata": {},
   "source": [
    "### Python Dictionaries"
   ]
  },
  {
   "cell_type": "markdown",
   "metadata": {},
   "source": [
    "Dictionaries are a mapping type. They map a key to a value."
   ]
  },
  {
   "cell_type": "markdown",
   "metadata": {},
   "source": [
    "###### Creating dictionaries and adding items\n",
    "Dictionaries can be created at the time of assignment."
   ]
  },
  {
   "cell_type": "code",
   "execution_count": null,
   "metadata": {},
   "outputs": [],
   "source": [
    "worker = {'name': 'Billy', 'job': 'driver', 'wage': 25.32}\n",
    "print(worker)"
   ]
  },
  {
   "cell_type": "markdown",
   "metadata": {},
   "source": [
    "Dictionaries can be created empty and keys can be added with values"
   ]
  },
  {
   "cell_type": "code",
   "execution_count": null,
   "metadata": {},
   "outputs": [],
   "source": [
    "worker = {}\n",
    "worker['name'] = 'Billy'\n",
    "worker['job'] = 'driver'\n",
    "worker['wage'] = 25.32\n",
    "worker['age'] = 42\n",
    "print(worker)"
   ]
  },
  {
   "cell_type": "markdown",
   "metadata": {},
   "source": [
    "###### Replacing and deleting items\n",
    "A dictionary key can have it's value replaced."
   ]
  },
  {
   "cell_type": "code",
   "execution_count": null,
   "metadata": {},
   "outputs": [],
   "source": [
    "road = {'street name': 'main', 'type': 'ST'}\n",
    "print('Current road dictionary: {}'.format(road))\n",
    "road['street name'] = 'center'\n",
    "print('Road dictionary after changing a value: {}'.format(road))"
   ]
  },
  {
   "cell_type": "markdown",
   "metadata": {},
   "source": [
    "The ```del``` keyword can be used to delete a key:value pair from a dictionary."
   ]
  },
  {
   "cell_type": "code",
   "execution_count": null,
   "metadata": {},
   "outputs": [],
   "source": [
    "road = {'street name': 'main', 'type': 'ST'}\n",
    "print('Current road dictionary: {}'.format(road))\n",
    "del road['type']\n",
    "print('Road dictionary after delete: {}'.format(road))"
   ]
  },
  {
   "cell_type": "markdown",
   "metadata": {},
   "source": [
    "###### Dictionary access and looping"
   ]
  },
  {
   "cell_type": "markdown",
   "metadata": {},
   "source": [
    "Basic dictionary access uses ```[]``` and a key to get a value."
   ]
  },
  {
   "cell_type": "code",
   "execution_count": null,
   "metadata": {},
   "outputs": [],
   "source": [
    "worker = {'name': 'Billy', 'job': 'driver', 'wage': 25.32}\n",
    "print('Get name form the dictionary: {}'.format(worker['name']))"
   ]
  },
  {
   "cell_type": "markdown",
   "metadata": {},
   "source": [
    "We can check if a key exists in a dictionary with ``in``."
   ]
  },
  {
   "cell_type": "code",
   "execution_count": null,
   "metadata": {},
   "outputs": [],
   "source": [
    "worker = {'name': 'Billy', 'job': 'driver', 'wage': 25.32}\n",
    "print(\"Is 'age' in the dictionary: {}\".format('age' in worker))"
   ]
  },
  {
   "cell_type": "markdown",
   "metadata": {},
   "source": [
    "*Why would you want to test if the key exists before using it?*"
   ]
  },
  {
   "cell_type": "markdown",
   "metadata": {},
   "source": [
    "All the keys can be looped through using ```for```."
   ]
  },
  {
   "cell_type": "code",
   "execution_count": null,
   "metadata": {},
   "outputs": [],
   "source": [
    "worker = {'name': 'Billy', 'job': 'driver', 'wage': 25.32}\n",
    "for key in worker:\n",
    "    print('The key: {} can be used to get the value: {}'.format(key, worker[key]))"
   ]
  },
  {
   "cell_type": "markdown",
   "metadata": {},
   "source": [
    "###### Dictionary methods\n",
    "Most of the methods provided by dictionaries help access the keys and values."
   ]
  },
  {
   "cell_type": "markdown",
   "metadata": {},
   "source": [
    "```values()``` and ```keys()``` will provide a list of all the dictionary values and keys."
   ]
  },
  {
   "cell_type": "code",
   "execution_count": null,
   "metadata": {},
   "outputs": [],
   "source": [
    "school = {'name': 'Hawthorne', 'type': 'elementary', 'address': '1675 S 600 E', 'city': 'Salt Lake City'}\n",
    "print('All the values: {}'.format(school.values()))\n",
    "print('All the keys: {}'.format(school.keys()))"
   ]
  },
  {
   "cell_type": "markdown",
   "metadata": {},
   "source": [
    "```items()``` will give a list of the key:value pairs as tuples. This is useful if you just want to loop through everything."
   ]
  },
  {
   "cell_type": "code",
   "execution_count": null,
   "metadata": {},
   "outputs": [],
   "source": [
    "school = {'name': 'Hawthorne', 'type': 'elementary', 'address': '1675 S 600 E', 'city': 'Salt Lake City'}\n",
    "for key, value in school.items():\n",
    "    print('The key: {}, maps to the value: {}'.format(key, value))"
   ]
  },
  {
   "cell_type": "markdown",
   "metadata": {},
   "source": [
    "```get()``` can uses a key to get a value. Instead of erroring when the key doesn't exist, it allows you to set a default value."
   ]
  },
  {
   "cell_type": "code",
   "execution_count": null,
   "metadata": {},
   "outputs": [],
   "source": [
    "school = {'name': 'Hawthorne', 'type': 'elementary', 'address': '1675 S 600 E', 'city': 'Salt Lake City'}\n",
    "print(\"Does the key: 'grades' exist in the dict school?: {}\".format('grades' in school))\n",
    "print(\"Accessing 'grades' with get gives your default: {}\".format(school.get('grades', 'not here')))"
   ]
  }
 ],
 "metadata": {
  "kernelspec": {
   "display_name": "Python 3",
   "language": "python",
   "name": "python3"
  },
  "language_info": {
   "codemirror_mode": {
    "name": "ipython",
    "version": 3
   },
   "file_extension": ".py",
   "mimetype": "text/x-python",
   "name": "python",
   "nbconvert_exporter": "python",
   "pygments_lexer": "ipython3",
   "version": "3.6.5"
  }
 },
 "nbformat": 4,
 "nbformat_minor": 2
}
