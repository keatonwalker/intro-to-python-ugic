{
 "cells": [
  {
   "cell_type": "markdown",
   "metadata": {},
   "source": [
    "Create a dictionary with more dictionaries inside it (nested dictionary).<br>\n",
    "The top level dictionary will be a person with:\n",
    "- name\n",
    "- age\n",
    "- hobbies : list\n",
    "-job : dictionary\n",
    "- - title\n",
    "- - wage\n",
    "- home location : dictionary\n",
    "- - address\n",
    "- - x\n",
    "- - y"
   ]
  },
  {
   "cell_type": "code",
   "execution_count": null,
   "metadata": {
    "collapsed": true
   },
   "outputs": [],
   "source": [
    "# Write your code here!"
   ]
  },
  {
   "cell_type": "markdown",
   "metadata": {},
   "source": [
    "###### Task 1\n",
    "1. Use the code example to read in rows from **schools.csv**<br>\n",
    "https://docs.python.org/3.6/library/csv.html#csv.DictReader\n",
    "1. Convert each row to a dictionary<br>\n",
    "1. Nest each row dictionary inside another dictionary with ```OBJECTID``` as the key. ```{'OBJECTID':1, 'SCHOOL': {'DISTRICT: 'NEBO'...```<br>\n",
    "1. Save the the final dictionary to json. Search the internet for **python save dictionary to json file** and see if you can find the answer!"
   ]
  },
  {
   "cell_type": "code",
   "execution_count": null,
   "metadata": {
    "collapsed": true
   },
   "outputs": [],
   "source": [
    "# Write your code here!  "
   ]
  }
 ],
 "metadata": {
  "kernelspec": {
   "display_name": "Python 3",
   "language": "python",
   "name": "python3"
  },
  "language_info": {
   "codemirror_mode": {
    "name": "ipython",
    "version": 3
   },
   "file_extension": ".py",
   "mimetype": "text/x-python",
   "name": "python",
   "nbconvert_exporter": "python",
   "pygments_lexer": "ipython3",
   "version": "3.6.2"
  }
 },
 "nbformat": 4,
 "nbformat_minor": 2
}
