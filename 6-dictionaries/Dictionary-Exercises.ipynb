{
 "cells": [
  {
   "cell_type": "markdown",
   "metadata": {},
   "source": [
    "Create a dictionary with more dictionaries inside it (nested dictionary).<br>\n",
    "The top level dictionary will represent information about a person.<br>\n",
    "Every word below will be a key except the type words (list, dictionary):\n",
    "- name\n",
    "- age\n",
    "- hobbies : list\n",
    "- job : dictionary\n",
    "  - title\n",
    "  - wage\n",
    "- home_location : dictionary\n",
    "  - address\n",
    "  - x\n",
    "  - y"
   ]
  },
  {
   "cell_type": "code",
   "execution_count": null,
   "metadata": {
    "collapsed": true
   },
   "outputs": [],
   "source": [
    "# Write your code here!"
   ]
  },
  {
   "cell_type": "markdown",
   "metadata": {},
   "source": [
    "###### Task 1\n",
    "1. Use the code example to read in rows from **schools.csv**<br>\n",
    "https://docs.python.org/3.6/library/csv.html#csv.DictReader\n",
    "1. Convert each row dictionary into a new dictionary with ```OBJECTID``` as the key.<br> \n",
    "Example: \n",
    "```python\n",
    "{9: {'SCHOOL': 'WILSON SCHOOL', 'DISTRICT': 'NEBO'},\n",
    "10: {'SCHOOL': 'PAYSON JR HIGH', 'DISTRICT': 'NEBO'}}\n",
    "```\n",
    "1. Save the the final dictionary to json. Search the internet for **python save dictionary to json file** and see if you can find the answer!"
   ]
  },
  {
   "cell_type": "code",
   "execution_count": null,
   "metadata": {
    "collapsed": true
   },
   "outputs": [],
   "source": [
    "# Write your code here!"
   ]
  }
 ],
 "metadata": {
  "kernelspec": {
   "display_name": "Python 3",
   "language": "python",
   "name": "python3"
  },
  "language_info": {
   "codemirror_mode": {
    "name": "ipython",
    "version": 3
   },
   "file_extension": ".py",
   "mimetype": "text/x-python",
   "name": "python",
   "nbconvert_exporter": "python",
   "pygments_lexer": "ipython3",
   "version": "3.6.6"
  }
 },
 "nbformat": 4,
 "nbformat_minor": 2
}
