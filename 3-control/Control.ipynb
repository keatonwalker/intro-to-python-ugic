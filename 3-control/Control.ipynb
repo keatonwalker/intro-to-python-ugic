{
 "cells": [
  {
   "cell_type": "markdown",
   "metadata": {},
   "source": [
    "### Control Flow\n",
    "Control statements are used to change how code is executed."
   ]
  },
  {
   "cell_type": "markdown",
   "metadata": {},
   "source": [
    "###### if\n",
    "if is used to run code when a statement is true."
   ]
  },
  {
   "cell_type": "code",
   "execution_count": null,
   "metadata": {},
   "outputs": [],
   "source": [
    "low_number = 9\n",
    "\n",
    "high_number = 27\n",
    "\n",
    "if low_number < high_number:\n",
    "    print('if low_number is less than high_number, this will run.')\n",
    "else:\n",
    "    print('low_number is not less than high_number')"
   ]
  },
  {
   "cell_type": "markdown",
   "metadata": {
    "collapsed": true
   },
   "source": [
    "if and elif can be used to check a sequence of statements"
   ]
  },
  {
   "cell_type": "code",
   "execution_count": null,
   "metadata": {},
   "outputs": [],
   "source": [
    "if high_number >= 100:\n",
    "    print('High number is big! high_number = {}'.format(high_number))\n",
    "elif low_number < high_number:\n",
    "    print('if high_number is less than 100 and\\nif low_number is less than high_number, this will run.')\n",
    "else:\n",
    "    print('low_number is not less than high_number')"
   ]
  },
  {
   "cell_type": "markdown",
   "metadata": {},
   "source": [
    "###### loops\n",
    "loops run the same code, multiple times."
   ]
  },
  {
   "cell_type": "markdown",
   "metadata": {},
   "source": [
    "**for** is a great way to loop. for will run once for every item in a sequence"
   ]
  },
  {
   "cell_type": "code",
   "execution_count": null,
   "metadata": {},
   "outputs": [],
   "source": [
    "number_list = [1, 2, 3]\n",
    "for number in number_list:\n",
    "    print('This print has run {} time'.format(number))"
   ]
  },
  {
   "cell_type": "code",
   "execution_count": null,
   "metadata": {},
   "outputs": [],
   "source": [
    "character_string = '123 Bad Route Rd'\n",
    "for character in character_string:\n",
    "    print(character)"
   ]
  },
  {
   "cell_type": "markdown",
   "metadata": {},
   "source": [
    "**while** will run one loop of code if a statement is true."
   ]
  },
  {
   "cell_type": "code",
   "execution_count": null,
   "metadata": {},
   "outputs": [],
   "source": [
    "number_of_loops = 0\n",
    "while number_of_loops < 3:\n",
    "    number_of_loops = number_of_loops + 1\n",
    "    print('Number of times while statement has been true: {}'.format(number_of_loops))"
   ]
  }
 ],
 "metadata": {
  "kernelspec": {
   "display_name": "Python 3",
   "language": "python",
   "name": "python3"
  },
  "language_info": {
   "codemirror_mode": {
    "name": "ipython",
    "version": 3
   },
   "file_extension": ".py",
   "mimetype": "text/x-python",
   "name": "python",
   "nbconvert_exporter": "python",
   "pygments_lexer": "ipython3",
   "version": "3.6.2"
  }
 },
 "nbformat": 4,
 "nbformat_minor": 2
}
