{
 "cells": [
  {
   "cell_type": "markdown",
   "metadata": {},
   "source": [
    "### Control Flow\n",
    "Control statements are used to change how code is executed."
   ]
  },
  {
   "cell_type": "markdown",
   "metadata": {},
   "source": [
    "###### if\n",
    "```if``` is used to run code when a statement is true."
   ]
  },
  {
   "cell_type": "code",
   "execution_count": null,
   "metadata": {},
   "outputs": [],
   "source": [
    "low_number = 9\n",
    "\n",
    "high_number = 27\n",
    "\n",
    "if low_number < high_number:\n",
    "    print('if low_number is less than high_number, this will run.')\n",
    "else:\n",
    "    print('low_number is not less than high_number')"
   ]
  },
  {
   "cell_type": "markdown",
   "metadata": {
    "collapsed": true
   },
   "source": [
    "```if``` and ```elif``` can be used to check a sequence of statements"
   ]
  },
  {
   "cell_type": "code",
   "execution_count": null,
   "metadata": {},
   "outputs": [],
   "source": [
    "if high_number >= 100:\n",
    "    print('High number is big! high_number = {}'.format(high_number))\n",
    "elif low_number < high_number:\n",
    "    print('if high_number is less than 100 and\\nif low_number is less than high_number, this will run.')\n",
    "else:\n",
    "    print('low_number is not less than high_number')"
   ]
  },
  {
   "cell_type": "markdown",
   "metadata": {},
   "source": [
    "###### loops\n",
    "loops run the same code, multiple times."
   ]
  },
  {
   "cell_type": "markdown",
   "metadata": {},
   "source": [
    "```for``` is a great way to loop. for will run once for every item in a sequence"
   ]
  },
  {
   "cell_type": "code",
   "execution_count": null,
   "metadata": {},
   "outputs": [],
   "source": [
    "number_list = [1, 2, 3]\n",
    "for number in number_list:\n",
    "    print('This print has run {} time'.format(number))"
   ]
  },
  {
   "cell_type": "code",
   "execution_count": null,
   "metadata": {},
   "outputs": [],
   "source": [
    "character_string = '123 Bad Route Rd'\n",
    "for character in character_string:\n",
    "    print(character)"
   ]
  },
  {
   "cell_type": "markdown",
   "metadata": {},
   "source": [
    "```while``` will run one loop of code if a statement is true."
   ]
  },
  {
   "cell_type": "code",
   "execution_count": null,
   "metadata": {},
   "outputs": [],
   "source": [
    "number_of_loops = 0\n",
    "while number_of_loops < 3:\n",
    "    number_of_loops = number_of_loops + 1\n",
    "    print('Number of times while statement has been true: {}'.format(number_of_loops))"
   ]
  },
  {
   "cell_type": "markdown",
   "metadata": {},
   "source": [
    "```break``` and ```continue``` are special loop keywords.<br><br>\n",
    "```break``` will prevent any more loop code from running and quit looping.<br>"
   ]
  },
  {
   "cell_type": "code",
   "execution_count": 5,
   "metadata": {},
   "outputs": [
    {
     "name": "stdout",
     "output_type": "stream",
     "text": [
      "Granola\n",
      "Grape Nuts\n",
      "Lucky Charms\n",
      "You found me lucky charms!\n"
     ]
    }
   ],
   "source": [
    "pantry_list = ['Granola', 'Grape Nuts', 'Lucky Charms', 'Cheerios', 'Count Chocula']\n",
    "for cereal in pantry_list:\n",
    "    print(cereal)\n",
    "    if cereal == 'Lucky Charms':\n",
    "        print('You found me lucky charms!')\n",
    "        break\n",
    "    elif cereal == 'Count Chocula':\n",
    "        print('no way')"
   ]
  },
  {
   "cell_type": "markdown",
   "metadata": {},
   "source": [
    "```continue``` will skip the rest of the loop code and check the ```for``` or ```while``` statement again."
   ]
  },
  {
   "cell_type": "code",
   "execution_count": 10,
   "metadata": {},
   "outputs": [
    {
     "name": "stdout",
     "output_type": "stream",
     "text": [
      "Granola is good for breakfast\n",
      "Grape Nuts\n",
      "Lucky Charms is good for breakfast\n",
      "Cheerios is good for breakfast\n",
      "Count Chocula\n"
     ]
    }
   ],
   "source": [
    "pantry_list = ['Granola', 'Grape Nuts', 'Lucky Charms', 'Cheerios', 'Count Chocula']\n",
    "for cereal in pantry_list:\n",
    "    print(cereal, end='')\n",
    "    if cereal == 'Grape Nuts' or cereal == 'Count Chocula':\n",
    "        print()\n",
    "        continue\n",
    "    print(' is good for breakfast')"
   ]
  },
  {
   "cell_type": "code",
   "execution_count": null,
   "metadata": {},
   "outputs": [],
   "source": []
  }
 ],
 "metadata": {
  "kernelspec": {
   "display_name": "Python 3",
   "language": "python",
   "name": "python3"
  },
  "language_info": {
   "codemirror_mode": {
    "name": "ipython",
    "version": 3
   },
   "file_extension": ".py",
   "mimetype": "text/x-python",
   "name": "python",
   "nbconvert_exporter": "python",
   "pygments_lexer": "ipython3",
   "version": "3.6.2"
  }
 },
 "nbformat": 4,
 "nbformat_minor": 2
}
