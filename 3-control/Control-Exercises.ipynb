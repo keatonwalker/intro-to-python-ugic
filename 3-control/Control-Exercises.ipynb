{
 "cells": [
  {
   "cell_type": "markdown",
   "metadata": {},
   "source": [
    "###### Task 0\n",
    "Make 'time' plural when ```number``` is greater than one."
   ]
  },
  {
   "cell_type": "code",
   "execution_count": 1,
   "metadata": {},
   "outputs": [
    {
     "name": "stdout",
     "output_type": "stream",
     "text": [
      "This print has run 1 time\n",
      "This print has run 2 times\n",
      "This print has run 3 times\n"
     ]
    }
   ],
   "source": [
    "number_list = [1, 2, 3]\n",
    "for number in number_list:\n",
    "    ending = ''\n",
    "    if number > 1:\n",
    "        ending = 's'\n",
    "    print('This print has run {} time'.format(number) + ending)"
   ]
  },
  {
   "cell_type": "markdown",
   "metadata": {},
   "source": [
    "###### Task 1\n",
    "Create a loop that will print every word of the string on a new line.<br>\n",
    "_Reminder:_ ```print(string, end='')``` will print on the same line."
   ]
  },
  {
   "cell_type": "code",
   "execution_count": 2,
   "metadata": {},
   "outputs": [
    {
     "name": "stdout",
     "output_type": "stream",
     "text": [
      "funny\n",
      " money\n",
      " sunny\n",
      " bunny\n"
     ]
    }
   ],
   "source": [
    "word_string = 'funny money sunny bunny'\n",
    "for letter in word_string:\n",
    "    if letter == 'y':\n",
    "        print(letter)\n",
    "    else:\n",
    "        print(letter, end='')"
   ]
  }
 ],
 "metadata": {
  "kernelspec": {
   "display_name": "Python 3",
   "language": "python",
   "name": "python3"
  },
  "language_info": {
   "codemirror_mode": {
    "name": "ipython",
    "version": 3
   },
   "file_extension": ".py",
   "mimetype": "text/x-python",
   "name": "python",
   "nbconvert_exporter": "python",
   "pygments_lexer": "ipython3",
   "version": "3.6.6"
  }
 },
 "nbformat": 4,
 "nbformat_minor": 2
}
