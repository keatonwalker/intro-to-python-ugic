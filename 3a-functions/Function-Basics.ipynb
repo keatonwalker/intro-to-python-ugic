{
 "cells": [
  {
   "cell_type": "code",
   "execution_count": null,
   "metadata": {},
   "outputs": [],
   "source": [
    "def combine_some_words(word1, word2, word3):\n",
    "    combined_words = word1 + ' ' + word2 + ' ' + word3\n",
    "    return combined_words"
   ]
  },
  {
   "cell_type": "markdown",
   "metadata": {},
   "source": [
    "The name of the function is ```combine_some_words```"
   ]
  },
  {
   "cell_type": "markdown",
   "metadata": {},
   "source": [
    "the paramters are ```word1, word2, word3```. Each parameter is sperated by a comma."
   ]
  },
  {
   "cell_type": "markdown",
   "metadata": {},
   "source": [
    "the function body is<br>\n",
    "```combined_words = word1 + ' ' + word2 + ' ' + word3\n",
    "return combined_words```"
   ]
  },
  {
   "cell_type": "markdown",
   "metadata": {},
   "source": [
    "A function is used by calling it. A call is created by the function name followed by ()"
   ]
  },
  {
   "cell_type": "code",
   "execution_count": 7,
   "metadata": {},
   "outputs": [
    {
     "data": {
      "text/plain": [
       "'we called it'"
      ]
     },
     "execution_count": 7,
     "metadata": {},
     "output_type": "execute_result"
    }
   ],
   "source": [
    "combine_some_words('we', 'called', 'it')"
   ]
  },
  {
   "cell_type": "markdown",
   "metadata": {},
   "source": [
    "The argument list is ```'we', 'called', 'it'```. Each argument is sperated by a comma."
   ]
  },
  {
   "cell_type": "markdown",
   "metadata": {},
   "source": [
    "The **return value** is the thing created by the function call. For this call ```'we called it'``` is the return value"
   ]
  },
  {
   "cell_type": "markdown",
   "metadata": {},
   "source": [
    "We can call our function with arguments in different orders if we use the parameter names."
   ]
  },
  {
   "cell_type": "code",
   "execution_count": 8,
   "metadata": {},
   "outputs": [
    {
     "data": {
      "text/plain": [
       "'It still worked!'"
      ]
     },
     "execution_count": 8,
     "metadata": {},
     "output_type": "execute_result"
    }
   ],
   "source": [
    "combine_some_words(word2='still', word1='It', word3='worked!')"
   ]
  },
  {
   "cell_type": "markdown",
   "metadata": {},
   "source": [
    "**Demo:** Use a function in the ArcGIS field calculator"
   ]
  },
  {
   "cell_type": "code",
   "execution_count": null,
   "metadata": {},
   "outputs": [],
   "source": [
    "def is_area_ok(gis_acres, shape_area):\n",
    "    \"\"\"\n",
    "        Test if the difference between areas is small enough to be OK\n",
    "        - One acre equals 4046.86 square meters.\n",
    "    \"\"\"\n",
    "    gis_meters = 4046.86 * gis_acres\n",
    "    difference = abs(gis_meters - shape_area)\n",
    "    return str(difference < 10)"
   ]
  }
 ],
 "metadata": {
  "kernelspec": {
   "display_name": "Python 3",
   "language": "python",
   "name": "python3"
  },
  "language_info": {
   "codemirror_mode": {
    "name": "ipython",
    "version": 3
   },
   "file_extension": ".py",
   "mimetype": "text/x-python",
   "name": "python",
   "nbconvert_exporter": "python",
   "pygments_lexer": "ipython3",
   "version": "3.6.5"
  }
 },
 "nbformat": 4,
 "nbformat_minor": 2
}
